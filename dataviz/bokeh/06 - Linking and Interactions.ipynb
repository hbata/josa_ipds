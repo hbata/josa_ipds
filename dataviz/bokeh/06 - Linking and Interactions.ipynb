{
 "cells": [
  {
   "cell_type": "markdown",
   "metadata": {},
   "source": [
    "<table style=\"float:left; border:none\">\n",
    "   <tr style=\"border:none; background-color: #ffffff\">\n",
    "       <td style=\"border:none\">\n",
    "           <a href=\"http://bokeh.pydata.org/\">     \n",
    "           <img \n",
    "               src=\"assets/bokeh-transparent.png\" \n",
    "               style=\"width:50px\"\n",
    "           >\n",
    "           </a>    \n",
    "       </td>\n",
    "       <td style=\"border:none\">\n",
    "           <h1>Bokeh Tutorial</h1>\n",
    "       </td>\n",
    "   </tr>\n",
    "</table>\n",
    "\n",
    "<div style=\"float:right;\"><h2>06. Linking and Interactions</h2></div>"
   ]
  },
  {
   "cell_type": "code",
   "execution_count": 2,
   "metadata": {},
   "outputs": [
    {
     "data": {
      "text/html": [
       "\n",
       "    <div class=\"bk-root\">\n",
       "        <a href=\"https://bokeh.pydata.org\" target=\"_blank\" class=\"bk-logo bk-logo-small bk-logo-notebook\"></a>\n",
       "        <span id=\"ca5f1cc5-51dd-49de-bb0a-4741c230440a\">Loading BokehJS ...</span>\n",
       "    </div>"
      ]
     },
     "metadata": {},
     "output_type": "display_data"
    },
    {
     "data": {
      "application/javascript": [
       "\n",
       "(function(root) {\n",
       "  function now() {\n",
       "    return new Date();\n",
       "  }\n",
       "\n",
       "  var force = true;\n",
       "\n",
       "  if (typeof (root._bokeh_onload_callbacks) === \"undefined\" || force === true) {\n",
       "    root._bokeh_onload_callbacks = [];\n",
       "    root._bokeh_is_loading = undefined;\n",
       "  }\n",
       "\n",
       "  var JS_MIME_TYPE = 'application/javascript';\n",
       "  var HTML_MIME_TYPE = 'text/html';\n",
       "  var EXEC_MIME_TYPE = 'application/vnd.bokehjs_exec.v0+json';\n",
       "  var CLASS_NAME = 'output_bokeh rendered_html';\n",
       "\n",
       "  /**\n",
       "   * Render data to the DOM node\n",
       "   */\n",
       "  function render(props, node) {\n",
       "    var script = document.createElement(\"script\");\n",
       "    node.appendChild(script);\n",
       "  }\n",
       "\n",
       "  /**\n",
       "   * Handle when an output is cleared or removed\n",
       "   */\n",
       "  function handleClearOutput(event, handle) {\n",
       "    var cell = handle.cell;\n",
       "\n",
       "    var id = cell.output_area._bokeh_element_id;\n",
       "    var server_id = cell.output_area._bokeh_server_id;\n",
       "    // Clean up Bokeh references\n",
       "    if (id !== undefined) {\n",
       "      Bokeh.index[id].model.document.clear();\n",
       "      delete Bokeh.index[id];\n",
       "    }\n",
       "\n",
       "    if (server_id !== undefined) {\n",
       "      // Clean up Bokeh references\n",
       "      var cmd = \"from bokeh.io.state import curstate; print(curstate().uuid_to_server['\" + server_id + \"'].get_sessions()[0].document.roots[0]._id)\";\n",
       "      cell.notebook.kernel.execute(cmd, {\n",
       "        iopub: {\n",
       "          output: function(msg) {\n",
       "            var element_id = msg.content.text.trim();\n",
       "            Bokeh.index[element_id].model.document.clear();\n",
       "            delete Bokeh.index[element_id];\n",
       "          }\n",
       "        }\n",
       "      });\n",
       "      // Destroy server and session\n",
       "      var cmd = \"import bokeh.io.notebook as ion; ion.destroy_server('\" + server_id + \"')\";\n",
       "      cell.notebook.kernel.execute(cmd);\n",
       "    }\n",
       "  }\n",
       "\n",
       "  /**\n",
       "   * Handle when a new output is added\n",
       "   */\n",
       "  function handleAddOutput(event, handle) {\n",
       "    var output_area = handle.output_area;\n",
       "    var output = handle.output;\n",
       "\n",
       "    // limit handleAddOutput to display_data with EXEC_MIME_TYPE content only\n",
       "    if ((output.output_type != \"display_data\") || (!output.data.hasOwnProperty(EXEC_MIME_TYPE))) {\n",
       "      return\n",
       "    }\n",
       "\n",
       "    var toinsert = output_area.element.find(\".\" + CLASS_NAME.split(' ')[0]);\n",
       "\n",
       "    if (output.metadata[EXEC_MIME_TYPE][\"id\"] !== undefined) {\n",
       "      toinsert[0].firstChild.textContent = output.data[JS_MIME_TYPE];\n",
       "      // store reference to embed id on output_area\n",
       "      output_area._bokeh_element_id = output.metadata[EXEC_MIME_TYPE][\"id\"];\n",
       "    }\n",
       "    if (output.metadata[EXEC_MIME_TYPE][\"server_id\"] !== undefined) {\n",
       "      var bk_div = document.createElement(\"div\");\n",
       "      bk_div.innerHTML = output.data[HTML_MIME_TYPE];\n",
       "      var script_attrs = bk_div.children[0].attributes;\n",
       "      for (var i = 0; i < script_attrs.length; i++) {\n",
       "        toinsert[0].firstChild.setAttribute(script_attrs[i].name, script_attrs[i].value);\n",
       "      }\n",
       "      // store reference to server id on output_area\n",
       "      output_area._bokeh_server_id = output.metadata[EXEC_MIME_TYPE][\"server_id\"];\n",
       "    }\n",
       "  }\n",
       "\n",
       "  function register_renderer(events, OutputArea) {\n",
       "\n",
       "    function append_mime(data, metadata, element) {\n",
       "      // create a DOM node to render to\n",
       "      var toinsert = this.create_output_subarea(\n",
       "        metadata,\n",
       "        CLASS_NAME,\n",
       "        EXEC_MIME_TYPE\n",
       "      );\n",
       "      this.keyboard_manager.register_events(toinsert);\n",
       "      // Render to node\n",
       "      var props = {data: data, metadata: metadata[EXEC_MIME_TYPE]};\n",
       "      render(props, toinsert[0]);\n",
       "      element.append(toinsert);\n",
       "      return toinsert\n",
       "    }\n",
       "\n",
       "    /* Handle when an output is cleared or removed */\n",
       "    events.on('clear_output.CodeCell', handleClearOutput);\n",
       "    events.on('delete.Cell', handleClearOutput);\n",
       "\n",
       "    /* Handle when a new output is added */\n",
       "    events.on('output_added.OutputArea', handleAddOutput);\n",
       "\n",
       "    /**\n",
       "     * Register the mime type and append_mime function with output_area\n",
       "     */\n",
       "    OutputArea.prototype.register_mime_type(EXEC_MIME_TYPE, append_mime, {\n",
       "      /* Is output safe? */\n",
       "      safe: true,\n",
       "      /* Index of renderer in `output_area.display_order` */\n",
       "      index: 0\n",
       "    });\n",
       "  }\n",
       "\n",
       "  // register the mime type if in Jupyter Notebook environment and previously unregistered\n",
       "  if (root.Jupyter !== undefined) {\n",
       "    var events = require('base/js/events');\n",
       "    var OutputArea = require('notebook/js/outputarea').OutputArea;\n",
       "\n",
       "    if (OutputArea.prototype.mime_types().indexOf(EXEC_MIME_TYPE) == -1) {\n",
       "      register_renderer(events, OutputArea);\n",
       "    }\n",
       "  }\n",
       "\n",
       "  \n",
       "  if (typeof (root._bokeh_timeout) === \"undefined\" || force === true) {\n",
       "    root._bokeh_timeout = Date.now() + 5000;\n",
       "    root._bokeh_failed_load = false;\n",
       "  }\n",
       "\n",
       "  var NB_LOAD_WARNING = {'data': {'text/html':\n",
       "     \"<div style='background-color: #fdd'>\\n\"+\n",
       "     \"<p>\\n\"+\n",
       "     \"BokehJS does not appear to have successfully loaded. If loading BokehJS from CDN, this \\n\"+\n",
       "     \"may be due to a slow or bad network connection. Possible fixes:\\n\"+\n",
       "     \"</p>\\n\"+\n",
       "     \"<ul>\\n\"+\n",
       "     \"<li>re-rerun `output_notebook()` to attempt to load from CDN again, or</li>\\n\"+\n",
       "     \"<li>use INLINE resources instead, as so:</li>\\n\"+\n",
       "     \"</ul>\\n\"+\n",
       "     \"<code>\\n\"+\n",
       "     \"from bokeh.resources import INLINE\\n\"+\n",
       "     \"output_notebook(resources=INLINE)\\n\"+\n",
       "     \"</code>\\n\"+\n",
       "     \"</div>\"}};\n",
       "\n",
       "  function display_loaded() {\n",
       "    var el = document.getElementById(\"ca5f1cc5-51dd-49de-bb0a-4741c230440a\");\n",
       "    if (el != null) {\n",
       "      el.textContent = \"BokehJS is loading...\";\n",
       "    }\n",
       "    if (root.Bokeh !== undefined) {\n",
       "      if (el != null) {\n",
       "        el.textContent = \"BokehJS \" + root.Bokeh.version + \" successfully loaded.\";\n",
       "      }\n",
       "    } else if (Date.now() < root._bokeh_timeout) {\n",
       "      setTimeout(display_loaded, 100)\n",
       "    }\n",
       "  }\n",
       "\n",
       "\n",
       "  function run_callbacks() {\n",
       "    try {\n",
       "      root._bokeh_onload_callbacks.forEach(function(callback) { callback() });\n",
       "    }\n",
       "    finally {\n",
       "      delete root._bokeh_onload_callbacks\n",
       "    }\n",
       "    console.info(\"Bokeh: all callbacks have finished\");\n",
       "  }\n",
       "\n",
       "  function load_libs(js_urls, callback) {\n",
       "    root._bokeh_onload_callbacks.push(callback);\n",
       "    if (root._bokeh_is_loading > 0) {\n",
       "      console.log(\"Bokeh: BokehJS is being loaded, scheduling callback at\", now());\n",
       "      return null;\n",
       "    }\n",
       "    if (js_urls == null || js_urls.length === 0) {\n",
       "      run_callbacks();\n",
       "      return null;\n",
       "    }\n",
       "    console.log(\"Bokeh: BokehJS not loaded, scheduling load and callback at\", now());\n",
       "    root._bokeh_is_loading = js_urls.length;\n",
       "    for (var i = 0; i < js_urls.length; i++) {\n",
       "      var url = js_urls[i];\n",
       "      var s = document.createElement('script');\n",
       "      s.src = url;\n",
       "      s.async = false;\n",
       "      s.onreadystatechange = s.onload = function() {\n",
       "        root._bokeh_is_loading--;\n",
       "        if (root._bokeh_is_loading === 0) {\n",
       "          console.log(\"Bokeh: all BokehJS libraries loaded\");\n",
       "          run_callbacks()\n",
       "        }\n",
       "      };\n",
       "      s.onerror = function() {\n",
       "        console.warn(\"failed to load library \" + url);\n",
       "      };\n",
       "      console.log(\"Bokeh: injecting script tag for BokehJS library: \", url);\n",
       "      document.getElementsByTagName(\"head\")[0].appendChild(s);\n",
       "    }\n",
       "  };var element = document.getElementById(\"ca5f1cc5-51dd-49de-bb0a-4741c230440a\");\n",
       "  if (element == null) {\n",
       "    console.log(\"Bokeh: ERROR: autoload.js configured with elementid 'ca5f1cc5-51dd-49de-bb0a-4741c230440a' but no matching script tag was found. \")\n",
       "    return false;\n",
       "  }\n",
       "\n",
       "  var js_urls = [\"https://cdn.pydata.org/bokeh/release/bokeh-0.12.11.min.js\", \"https://cdn.pydata.org/bokeh/release/bokeh-widgets-0.12.11.min.js\", \"https://cdn.pydata.org/bokeh/release/bokeh-tables-0.12.11.min.js\", \"https://cdn.pydata.org/bokeh/release/bokeh-gl-0.12.11.min.js\"];\n",
       "\n",
       "  var inline_js = [\n",
       "    function(Bokeh) {\n",
       "      Bokeh.set_log_level(\"info\");\n",
       "    },\n",
       "    \n",
       "    function(Bokeh) {\n",
       "      \n",
       "    },\n",
       "    function(Bokeh) {\n",
       "      console.log(\"Bokeh: injecting CSS: https://cdn.pydata.org/bokeh/release/bokeh-0.12.11.min.css\");\n",
       "      Bokeh.embed.inject_css(\"https://cdn.pydata.org/bokeh/release/bokeh-0.12.11.min.css\");\n",
       "      console.log(\"Bokeh: injecting CSS: https://cdn.pydata.org/bokeh/release/bokeh-widgets-0.12.11.min.css\");\n",
       "      Bokeh.embed.inject_css(\"https://cdn.pydata.org/bokeh/release/bokeh-widgets-0.12.11.min.css\");\n",
       "      console.log(\"Bokeh: injecting CSS: https://cdn.pydata.org/bokeh/release/bokeh-tables-0.12.11.min.css\");\n",
       "      Bokeh.embed.inject_css(\"https://cdn.pydata.org/bokeh/release/bokeh-tables-0.12.11.min.css\");\n",
       "    }\n",
       "  ];\n",
       "\n",
       "  function run_inline_js() {\n",
       "    \n",
       "    if ((root.Bokeh !== undefined) || (force === true)) {\n",
       "      for (var i = 0; i < inline_js.length; i++) {\n",
       "        inline_js[i].call(root, root.Bokeh);\n",
       "      }if (force === true) {\n",
       "        display_loaded();\n",
       "      }} else if (Date.now() < root._bokeh_timeout) {\n",
       "      setTimeout(run_inline_js, 100);\n",
       "    } else if (!root._bokeh_failed_load) {\n",
       "      console.log(\"Bokeh: BokehJS failed to load within specified timeout.\");\n",
       "      root._bokeh_failed_load = true;\n",
       "    } else if (force !== true) {\n",
       "      var cell = $(document.getElementById(\"ca5f1cc5-51dd-49de-bb0a-4741c230440a\")).parents('.cell').data().cell;\n",
       "      cell.output_area.append_execute_result(NB_LOAD_WARNING)\n",
       "    }\n",
       "\n",
       "  }\n",
       "\n",
       "  if (root._bokeh_is_loading === 0) {\n",
       "    console.log(\"Bokeh: BokehJS loaded, going straight to plotting\");\n",
       "    run_inline_js();\n",
       "  } else {\n",
       "    load_libs(js_urls, function() {\n",
       "      console.log(\"Bokeh: BokehJS plotting callback run at\", now());\n",
       "      run_inline_js();\n",
       "    });\n",
       "  }\n",
       "}(window));"
      ],
      "application/vnd.bokehjs_load.v0+json": "\n(function(root) {\n  function now() {\n    return new Date();\n  }\n\n  var force = true;\n\n  if (typeof (root._bokeh_onload_callbacks) === \"undefined\" || force === true) {\n    root._bokeh_onload_callbacks = [];\n    root._bokeh_is_loading = undefined;\n  }\n\n  \n\n  \n  if (typeof (root._bokeh_timeout) === \"undefined\" || force === true) {\n    root._bokeh_timeout = Date.now() + 5000;\n    root._bokeh_failed_load = false;\n  }\n\n  var NB_LOAD_WARNING = {'data': {'text/html':\n     \"<div style='background-color: #fdd'>\\n\"+\n     \"<p>\\n\"+\n     \"BokehJS does not appear to have successfully loaded. If loading BokehJS from CDN, this \\n\"+\n     \"may be due to a slow or bad network connection. Possible fixes:\\n\"+\n     \"</p>\\n\"+\n     \"<ul>\\n\"+\n     \"<li>re-rerun `output_notebook()` to attempt to load from CDN again, or</li>\\n\"+\n     \"<li>use INLINE resources instead, as so:</li>\\n\"+\n     \"</ul>\\n\"+\n     \"<code>\\n\"+\n     \"from bokeh.resources import INLINE\\n\"+\n     \"output_notebook(resources=INLINE)\\n\"+\n     \"</code>\\n\"+\n     \"</div>\"}};\n\n  function display_loaded() {\n    var el = document.getElementById(\"ca5f1cc5-51dd-49de-bb0a-4741c230440a\");\n    if (el != null) {\n      el.textContent = \"BokehJS is loading...\";\n    }\n    if (root.Bokeh !== undefined) {\n      if (el != null) {\n        el.textContent = \"BokehJS \" + root.Bokeh.version + \" successfully loaded.\";\n      }\n    } else if (Date.now() < root._bokeh_timeout) {\n      setTimeout(display_loaded, 100)\n    }\n  }\n\n\n  function run_callbacks() {\n    try {\n      root._bokeh_onload_callbacks.forEach(function(callback) { callback() });\n    }\n    finally {\n      delete root._bokeh_onload_callbacks\n    }\n    console.info(\"Bokeh: all callbacks have finished\");\n  }\n\n  function load_libs(js_urls, callback) {\n    root._bokeh_onload_callbacks.push(callback);\n    if (root._bokeh_is_loading > 0) {\n      console.log(\"Bokeh: BokehJS is being loaded, scheduling callback at\", now());\n      return null;\n    }\n    if (js_urls == null || js_urls.length === 0) {\n      run_callbacks();\n      return null;\n    }\n    console.log(\"Bokeh: BokehJS not loaded, scheduling load and callback at\", now());\n    root._bokeh_is_loading = js_urls.length;\n    for (var i = 0; i < js_urls.length; i++) {\n      var url = js_urls[i];\n      var s = document.createElement('script');\n      s.src = url;\n      s.async = false;\n      s.onreadystatechange = s.onload = function() {\n        root._bokeh_is_loading--;\n        if (root._bokeh_is_loading === 0) {\n          console.log(\"Bokeh: all BokehJS libraries loaded\");\n          run_callbacks()\n        }\n      };\n      s.onerror = function() {\n        console.warn(\"failed to load library \" + url);\n      };\n      console.log(\"Bokeh: injecting script tag for BokehJS library: \", url);\n      document.getElementsByTagName(\"head\")[0].appendChild(s);\n    }\n  };var element = document.getElementById(\"ca5f1cc5-51dd-49de-bb0a-4741c230440a\");\n  if (element == null) {\n    console.log(\"Bokeh: ERROR: autoload.js configured with elementid 'ca5f1cc5-51dd-49de-bb0a-4741c230440a' but no matching script tag was found. \")\n    return false;\n  }\n\n  var js_urls = [\"https://cdn.pydata.org/bokeh/release/bokeh-0.12.11.min.js\", \"https://cdn.pydata.org/bokeh/release/bokeh-widgets-0.12.11.min.js\", \"https://cdn.pydata.org/bokeh/release/bokeh-tables-0.12.11.min.js\", \"https://cdn.pydata.org/bokeh/release/bokeh-gl-0.12.11.min.js\"];\n\n  var inline_js = [\n    function(Bokeh) {\n      Bokeh.set_log_level(\"info\");\n    },\n    \n    function(Bokeh) {\n      \n    },\n    function(Bokeh) {\n      console.log(\"Bokeh: injecting CSS: https://cdn.pydata.org/bokeh/release/bokeh-0.12.11.min.css\");\n      Bokeh.embed.inject_css(\"https://cdn.pydata.org/bokeh/release/bokeh-0.12.11.min.css\");\n      console.log(\"Bokeh: injecting CSS: https://cdn.pydata.org/bokeh/release/bokeh-widgets-0.12.11.min.css\");\n      Bokeh.embed.inject_css(\"https://cdn.pydata.org/bokeh/release/bokeh-widgets-0.12.11.min.css\");\n      console.log(\"Bokeh: injecting CSS: https://cdn.pydata.org/bokeh/release/bokeh-tables-0.12.11.min.css\");\n      Bokeh.embed.inject_css(\"https://cdn.pydata.org/bokeh/release/bokeh-tables-0.12.11.min.css\");\n    }\n  ];\n\n  function run_inline_js() {\n    \n    if ((root.Bokeh !== undefined) || (force === true)) {\n      for (var i = 0; i < inline_js.length; i++) {\n        inline_js[i].call(root, root.Bokeh);\n      }if (force === true) {\n        display_loaded();\n      }} else if (Date.now() < root._bokeh_timeout) {\n      setTimeout(run_inline_js, 100);\n    } else if (!root._bokeh_failed_load) {\n      console.log(\"Bokeh: BokehJS failed to load within specified timeout.\");\n      root._bokeh_failed_load = true;\n    } else if (force !== true) {\n      var cell = $(document.getElementById(\"ca5f1cc5-51dd-49de-bb0a-4741c230440a\")).parents('.cell').data().cell;\n      cell.output_area.append_execute_result(NB_LOAD_WARNING)\n    }\n\n  }\n\n  if (root._bokeh_is_loading === 0) {\n    console.log(\"Bokeh: BokehJS loaded, going straight to plotting\");\n    run_inline_js();\n  } else {\n    load_libs(js_urls, function() {\n      console.log(\"Bokeh: BokehJS plotting callback run at\", now());\n      run_inline_js();\n    });\n  }\n}(window));"
     },
     "metadata": {},
     "output_type": "display_data"
    }
   ],
   "source": [
    "from bokeh.io import output_notebook, show\n",
    "from bokeh.plotting import figure\n",
    "output_notebook()"
   ]
  },
  {
   "cell_type": "markdown",
   "metadata": {},
   "source": [
    "Now that we know from the previous chapter how multiple plots can be placed together in a layout, we can start to look at how different plots can be linked togeher, or how plots can be linked to widgets. "
   ]
  },
  {
   "cell_type": "markdown",
   "metadata": {
    "collapsed": true
   },
   "source": [
    "# Linked Interactions\n",
    "\n",
    "It is possible to link various interactions between different Bokeh plots. For instance, the ranges of two (or more) plots can be linked, so that when one of the plots is panned (or zoomed, or otherwise has its range changed) the other plots will update in unison. It is also possible to link selections between two plots, so that when items are selected on one plot, the corresponding items on the second plot also become selected. "
   ]
  },
  {
   "cell_type": "markdown",
   "metadata": {},
   "source": [
    "## Linked panning\n",
    "\n",
    "Linked panning (when multiple plots have ranges that stay in sync) is simple to spell with Bokeh. You simply share the appropriate range objects between two (or more) plots. The example below shows how to accomplish this by linking the ranges of three plots in various ways:"
   ]
  },
  {
   "cell_type": "code",
   "execution_count": 3,
   "metadata": {},
   "outputs": [
    {
     "data": {
      "text/html": [
       "\n",
       "<div class=\"bk-root\">\n",
       "    <div class=\"bk-plotdiv\" id=\"b359d28b-2e55-4b00-a796-5a7ce3f03ac0\"></div>\n",
       "</div>"
      ]
     },
     "metadata": {},
     "output_type": "display_data"
    },
    {
     "data": {
      "application/javascript": [
       "(function(root) {\n",
       "  function embed_document(root) {\n",
       "    var docs_json = {\"6dcdaa2c-97eb-494a-a944-f92aa381db1f\":{\"roots\":{\"references\":[{\"attributes\":{\"tools\":[{\"id\":\"4f7eaff4-d2e3-4d64-9152-f39987fda684\",\"type\":\"PanTool\"},{\"id\":\"18b8f610-6b05-4751-bca5-137dd83bd06d\",\"type\":\"WheelZoomTool\"},{\"id\":\"9a243b66-4f23-4528-917f-5de56288a8fc\",\"type\":\"PanTool\"},{\"id\":\"77d10bad-7eb6-4e59-a147-c69bc4018c1f\",\"type\":\"WheelZoomTool\"},{\"id\":\"3a6fe30a-7b33-482c-8693-01c0618c825b\",\"type\":\"PanTool\"},{\"id\":\"2d1afb68-cfb9-4ab7-9304-4b6badc2011c\",\"type\":\"WheelZoomTool\"}]},\"id\":\"2aad07f2-51e6-417a-9375-efb1ebd5d8c3\",\"type\":\"ProxyToolbar\"},{\"attributes\":{\"toolbar\":{\"id\":\"2aad07f2-51e6-417a-9375-efb1ebd5d8c3\",\"type\":\"ProxyToolbar\"},\"toolbar_location\":\"above\"},\"id\":\"348a6138-2a80-44d9-96e5-1f00adbf0b1f\",\"type\":\"ToolbarBox\"},{\"attributes\":{\"children\":[{\"id\":\"348a6138-2a80-44d9-96e5-1f00adbf0b1f\",\"type\":\"ToolbarBox\"},{\"id\":\"c310a779-41ed-4a5c-9e6a-b0a494753fb7\",\"type\":\"Column\"}]},\"id\":\"a8527e59-8a2f-4777-8c46-802e6c8e3c06\",\"type\":\"Column\"},{\"attributes\":{\"below\":[{\"id\":\"211f0649-c02e-4c7b-b558-80139e40960b\",\"type\":\"LinearAxis\"}],\"left\":[{\"id\":\"18ef9266-b6e0-48a6-9b21-130b70b5ea20\",\"type\":\"LinearAxis\"}],\"plot_height\":250,\"plot_width\":250,\"renderers\":[{\"id\":\"211f0649-c02e-4c7b-b558-80139e40960b\",\"type\":\"LinearAxis\"},{\"id\":\"23757719-e4cb-4062-8247-36d3ff962bb6\",\"type\":\"Grid\"},{\"id\":\"18ef9266-b6e0-48a6-9b21-130b70b5ea20\",\"type\":\"LinearAxis\"},{\"id\":\"5580c7fa-e8c6-4313-8751-002feff15145\",\"type\":\"Grid\"},{\"id\":\"e42a72cf-e7f0-4145-9f5f-7b33ea19e3fb\",\"type\":\"GlyphRenderer\"}],\"title\":{\"id\":\"627a4b30-dff2-4e23-b57a-32e83f3ed051\",\"type\":\"Title\"},\"toolbar\":{\"id\":\"ed97dc7a-b8e3-4160-b96d-1035fc046de4\",\"type\":\"Toolbar\"},\"toolbar_location\":null,\"x_range\":{\"id\":\"5dbc7fd8-f695-4edf-b3d9-6e4fcafa79fc\",\"type\":\"DataRange1d\"},\"x_scale\":{\"id\":\"362ef131-09c8-40f4-ad6f-cf6a0fad59bb\",\"type\":\"LinearScale\"},\"y_range\":{\"id\":\"0c51c770-d9e2-48e1-86c0-346593334c7e\",\"type\":\"DataRange1d\"},\"y_scale\":{\"id\":\"7bca9272-a5a6-49a5-843e-9a17b1d5a226\",\"type\":\"LinearScale\"}},\"id\":\"3d1dd230-2bdd-402d-903e-f38b8ca1402e\",\"subtype\":\"Figure\",\"type\":\"Plot\"},{\"attributes\":{\"active_drag\":\"auto\",\"active_inspect\":\"auto\",\"active_scroll\":\"auto\",\"active_tap\":\"auto\",\"tools\":[{\"id\":\"4f7eaff4-d2e3-4d64-9152-f39987fda684\",\"type\":\"PanTool\"},{\"id\":\"18b8f610-6b05-4751-bca5-137dd83bd06d\",\"type\":\"WheelZoomTool\"}]},\"id\":\"ed97dc7a-b8e3-4160-b96d-1035fc046de4\",\"type\":\"Toolbar\"},{\"attributes\":{\"callback\":null},\"id\":\"5dbc7fd8-f695-4edf-b3d9-6e4fcafa79fc\",\"type\":\"DataRange1d\"},{\"attributes\":{\"callback\":null},\"id\":\"0c51c770-d9e2-48e1-86c0-346593334c7e\",\"type\":\"DataRange1d\"},{\"attributes\":{},\"id\":\"5ce62626-541a-4abb-93c5-09ba1005d9a0\",\"type\":\"BasicTickFormatter\"},{\"attributes\":{\"callback\":null,\"column_names\":[\"x\",\"y\"],\"data\":{\"x\":[0,1,2,3,4,5,6,7,8,9,10],\"y\":[0,1,2,3,4,5,6,7,8,9,10]}},\"id\":\"56f3f04e-ab54-4b77-a097-27e23c70d848\",\"type\":\"ColumnDataSource\"},{\"attributes\":{},\"id\":\"362ef131-09c8-40f4-ad6f-cf6a0fad59bb\",\"type\":\"LinearScale\"},{\"attributes\":{\"plot\":{\"id\":\"3d1dd230-2bdd-402d-903e-f38b8ca1402e\",\"subtype\":\"Figure\",\"type\":\"Plot\"},\"ticker\":{\"id\":\"372ea58d-2f72-4336-921c-8abda9cae4bc\",\"type\":\"BasicTicker\"}},\"id\":\"23757719-e4cb-4062-8247-36d3ff962bb6\",\"type\":\"Grid\"},{\"attributes\":{},\"id\":\"7bca9272-a5a6-49a5-843e-9a17b1d5a226\",\"type\":\"LinearScale\"},{\"attributes\":{\"formatter\":{\"id\":\"703c71f5-7e56-408d-99d1-b4c5a97ddd7d\",\"type\":\"BasicTickFormatter\"},\"plot\":{\"id\":\"3d1dd230-2bdd-402d-903e-f38b8ca1402e\",\"subtype\":\"Figure\",\"type\":\"Plot\"},\"ticker\":{\"id\":\"b658ffb6-6b88-44b0-a500-5fc099a1214a\",\"type\":\"BasicTicker\"}},\"id\":\"18ef9266-b6e0-48a6-9b21-130b70b5ea20\",\"type\":\"LinearAxis\"},{\"attributes\":{\"dimension\":1,\"plot\":{\"id\":\"3d1dd230-2bdd-402d-903e-f38b8ca1402e\",\"subtype\":\"Figure\",\"type\":\"Plot\"},\"ticker\":{\"id\":\"b658ffb6-6b88-44b0-a500-5fc099a1214a\",\"type\":\"BasicTicker\"}},\"id\":\"5580c7fa-e8c6-4313-8751-002feff15145\",\"type\":\"Grid\"},{\"attributes\":{},\"id\":\"703c71f5-7e56-408d-99d1-b4c5a97ddd7d\",\"type\":\"BasicTickFormatter\"},{\"attributes\":{\"formatter\":{\"id\":\"5ce62626-541a-4abb-93c5-09ba1005d9a0\",\"type\":\"BasicTickFormatter\"},\"plot\":{\"id\":\"3d1dd230-2bdd-402d-903e-f38b8ca1402e\",\"subtype\":\"Figure\",\"type\":\"Plot\"},\"ticker\":{\"id\":\"372ea58d-2f72-4336-921c-8abda9cae4bc\",\"type\":\"BasicTicker\"}},\"id\":\"211f0649-c02e-4c7b-b558-80139e40960b\",\"type\":\"LinearAxis\"},{\"attributes\":{},\"id\":\"372ea58d-2f72-4336-921c-8abda9cae4bc\",\"type\":\"BasicTicker\"},{\"attributes\":{},\"id\":\"b658ffb6-6b88-44b0-a500-5fc099a1214a\",\"type\":\"BasicTicker\"},{\"attributes\":{},\"id\":\"18b8f610-6b05-4751-bca5-137dd83bd06d\",\"type\":\"WheelZoomTool\"},{\"attributes\":{},\"id\":\"4f7eaff4-d2e3-4d64-9152-f39987fda684\",\"type\":\"PanTool\"},{\"attributes\":{},\"id\":\"1563eb5e-244d-4351-a88f-08021f4b689a\",\"type\":\"BasicTickFormatter\"},{\"attributes\":{\"below\":[{\"id\":\"e16a9c03-5f96-4c9d-b348-911d5c910bbe\",\"type\":\"LinearAxis\"}],\"left\":[{\"id\":\"32bb62e8-7a76-478b-9b24-dc5c177fddcd\",\"type\":\"LinearAxis\"}],\"plot_height\":250,\"plot_width\":250,\"renderers\":[{\"id\":\"e16a9c03-5f96-4c9d-b348-911d5c910bbe\",\"type\":\"LinearAxis\"},{\"id\":\"b457c96c-e605-4b77-ae95-ae4b2c7653c9\",\"type\":\"Grid\"},{\"id\":\"32bb62e8-7a76-478b-9b24-dc5c177fddcd\",\"type\":\"LinearAxis\"},{\"id\":\"2855f680-573d-4db3-b5b5-ff7211fea071\",\"type\":\"Grid\"},{\"id\":\"1bec980e-c090-49a9-8c47-4617fc028355\",\"type\":\"GlyphRenderer\"}],\"title\":{\"id\":\"e73dbad8-074f-48ab-a66e-ad95b5af3dd2\",\"type\":\"Title\"},\"toolbar\":{\"id\":\"16dc64d6-ac6c-44c7-9875-2efaaf76d4d3\",\"type\":\"Toolbar\"},\"toolbar_location\":null,\"x_range\":{\"id\":\"5dbc7fd8-f695-4edf-b3d9-6e4fcafa79fc\",\"type\":\"DataRange1d\"},\"x_scale\":{\"id\":\"43398d8b-7f21-485f-8016-2e988b58bdcf\",\"type\":\"LinearScale\"},\"y_range\":{\"id\":\"0c51c770-d9e2-48e1-86c0-346593334c7e\",\"type\":\"DataRange1d\"},\"y_scale\":{\"id\":\"4b9e3c17-d842-4f87-b23c-a333b1a36714\",\"type\":\"LinearScale\"}},\"id\":\"0316d59b-37aa-4e10-bb1c-40fb82b5587e\",\"subtype\":\"Figure\",\"type\":\"Plot\"},{\"attributes\":{\"plot\":null,\"text\":\"\"},\"id\":\"627a4b30-dff2-4e23-b57a-32e83f3ed051\",\"type\":\"Title\"},{\"attributes\":{\"fill_color\":{\"value\":\"navy\"},\"line_color\":{\"value\":\"navy\"},\"size\":{\"units\":\"screen\",\"value\":10},\"x\":{\"field\":\"x\"},\"y\":{\"field\":\"y\"}},\"id\":\"98944715-a27b-4573-a125-07fc99c31c6c\",\"type\":\"Circle\"},{\"attributes\":{\"fill_color\":{\"value\":\"firebrick\"},\"line_color\":{\"value\":\"firebrick\"},\"size\":{\"units\":\"screen\",\"value\":10},\"x\":{\"field\":\"x\"},\"y\":{\"field\":\"y\"}},\"id\":\"c9e11a81-b102-4fc0-bfdf-670b7dcdc12c\",\"type\":\"Triangle\"},{\"attributes\":{\"plot\":{\"id\":\"0316d59b-37aa-4e10-bb1c-40fb82b5587e\",\"subtype\":\"Figure\",\"type\":\"Plot\"},\"ticker\":{\"id\":\"8fd182dd-f1f8-40d3-b101-d0a881493d25\",\"type\":\"BasicTicker\"}},\"id\":\"b457c96c-e605-4b77-ae95-ae4b2c7653c9\",\"type\":\"Grid\"},{\"attributes\":{\"callback\":null,\"column_names\":[\"x\",\"y\"],\"data\":{\"x\":[0,1,2,3,4,5,6,7,8,9,10],\"y\":[10,9,8,7,6,5,4,3,2,1,0]}},\"id\":\"7f36a8dc-2f0c-4eb7-9668-2c464878e3d1\",\"type\":\"ColumnDataSource\"},{\"attributes\":{\"active_drag\":\"auto\",\"active_inspect\":\"auto\",\"active_scroll\":\"auto\",\"active_tap\":\"auto\",\"tools\":[{\"id\":\"9a243b66-4f23-4528-917f-5de56288a8fc\",\"type\":\"PanTool\"},{\"id\":\"77d10bad-7eb6-4e59-a147-c69bc4018c1f\",\"type\":\"WheelZoomTool\"}]},\"id\":\"16dc64d6-ac6c-44c7-9875-2efaaf76d4d3\",\"type\":\"Toolbar\"},{\"attributes\":{\"formatter\":{\"id\":\"e4b5891c-2926-47da-b2a4-7a62bfbc96f0\",\"type\":\"BasicTickFormatter\"},\"plot\":{\"id\":\"0316d59b-37aa-4e10-bb1c-40fb82b5587e\",\"subtype\":\"Figure\",\"type\":\"Plot\"},\"ticker\":{\"id\":\"8fd182dd-f1f8-40d3-b101-d0a881493d25\",\"type\":\"BasicTicker\"}},\"id\":\"e16a9c03-5f96-4c9d-b348-911d5c910bbe\",\"type\":\"LinearAxis\"},{\"attributes\":{},\"id\":\"43398d8b-7f21-485f-8016-2e988b58bdcf\",\"type\":\"LinearScale\"},{\"attributes\":{},\"id\":\"4b9e3c17-d842-4f87-b23c-a333b1a36714\",\"type\":\"LinearScale\"},{\"attributes\":{\"data_source\":{\"id\":\"56f3f04e-ab54-4b77-a097-27e23c70d848\",\"type\":\"ColumnDataSource\"},\"glyph\":{\"id\":\"98944715-a27b-4573-a125-07fc99c31c6c\",\"type\":\"Circle\"},\"hover_glyph\":null,\"muted_glyph\":null,\"nonselection_glyph\":{\"id\":\"d9815900-7e3b-4e53-8ca8-48aa2a8ae16a\",\"type\":\"Circle\"},\"selection_glyph\":null,\"view\":{\"id\":\"8783e134-e0c4-4c3e-9e13-347324f44ee2\",\"type\":\"CDSView\"}},\"id\":\"e42a72cf-e7f0-4145-9f5f-7b33ea19e3fb\",\"type\":\"GlyphRenderer\"},{\"attributes\":{},\"id\":\"8fd182dd-f1f8-40d3-b101-d0a881493d25\",\"type\":\"BasicTicker\"},{\"attributes\":{\"formatter\":{\"id\":\"1563eb5e-244d-4351-a88f-08021f4b689a\",\"type\":\"BasicTickFormatter\"},\"plot\":{\"id\":\"0316d59b-37aa-4e10-bb1c-40fb82b5587e\",\"subtype\":\"Figure\",\"type\":\"Plot\"},\"ticker\":{\"id\":\"6844df8f-2f89-4e71-b109-0576d6214ea1\",\"type\":\"BasicTicker\"}},\"id\":\"32bb62e8-7a76-478b-9b24-dc5c177fddcd\",\"type\":\"LinearAxis\"},{\"attributes\":{},\"id\":\"6844df8f-2f89-4e71-b109-0576d6214ea1\",\"type\":\"BasicTicker\"},{\"attributes\":{\"dimension\":1,\"plot\":{\"id\":\"0316d59b-37aa-4e10-bb1c-40fb82b5587e\",\"subtype\":\"Figure\",\"type\":\"Plot\"},\"ticker\":{\"id\":\"6844df8f-2f89-4e71-b109-0576d6214ea1\",\"type\":\"BasicTicker\"}},\"id\":\"2855f680-573d-4db3-b5b5-ff7211fea071\",\"type\":\"Grid\"},{\"attributes\":{},\"id\":\"355734e9-6548-4069-9220-65ef633fe1e0\",\"type\":\"BasicTickFormatter\"},{\"attributes\":{},\"id\":\"9a243b66-4f23-4528-917f-5de56288a8fc\",\"type\":\"PanTool\"},{\"attributes\":{\"source\":{\"id\":\"56f3f04e-ab54-4b77-a097-27e23c70d848\",\"type\":\"ColumnDataSource\"}},\"id\":\"8783e134-e0c4-4c3e-9e13-347324f44ee2\",\"type\":\"CDSView\"},{\"attributes\":{\"below\":[{\"id\":\"8de59989-f9f2-4e68-9c00-a0636748485c\",\"type\":\"LinearAxis\"}],\"left\":[{\"id\":\"ecdfaba3-25ff-496d-bd01-15aada1e19f0\",\"type\":\"LinearAxis\"}],\"plot_height\":250,\"plot_width\":250,\"renderers\":[{\"id\":\"8de59989-f9f2-4e68-9c00-a0636748485c\",\"type\":\"LinearAxis\"},{\"id\":\"463e6624-08c1-4029-83c6-a92b021bca62\",\"type\":\"Grid\"},{\"id\":\"ecdfaba3-25ff-496d-bd01-15aada1e19f0\",\"type\":\"LinearAxis\"},{\"id\":\"b1ffeaba-ae50-4beb-992c-c16db0e5f9b2\",\"type\":\"Grid\"},{\"id\":\"a1b0216e-622d-495a-b66c-35b062c44d0b\",\"type\":\"GlyphRenderer\"}],\"title\":{\"id\":\"6237ecc8-0e2d-4777-aafd-49facca507ed\",\"type\":\"Title\"},\"toolbar\":{\"id\":\"c2e838ff-5de5-4947-93cc-f1aa280bb9e0\",\"type\":\"Toolbar\"},\"toolbar_location\":null,\"x_range\":{\"id\":\"5dbc7fd8-f695-4edf-b3d9-6e4fcafa79fc\",\"type\":\"DataRange1d\"},\"x_scale\":{\"id\":\"4de526e0-c018-47af-998a-80ad2c2b4666\",\"type\":\"LinearScale\"},\"y_range\":{\"id\":\"5947d9d9-b3fa-46dc-974c-823e01c72293\",\"type\":\"DataRange1d\"},\"y_scale\":{\"id\":\"6c78f114-56ee-4170-bbfc-5b5ef0ff31e7\",\"type\":\"LinearScale\"}},\"id\":\"0660f0a5-8869-4a4b-9c06-5629a287475f\",\"subtype\":\"Figure\",\"type\":\"Plot\"},{\"attributes\":{},\"id\":\"77d10bad-7eb6-4e59-a147-c69bc4018c1f\",\"type\":\"WheelZoomTool\"},{\"attributes\":{\"fill_alpha\":{\"value\":0.1},\"fill_color\":{\"value\":\"#1f77b4\"},\"line_alpha\":{\"value\":0.1},\"line_color\":{\"value\":\"#1f77b4\"},\"size\":{\"units\":\"screen\",\"value\":10},\"x\":{\"field\":\"x\"},\"y\":{\"field\":\"y\"}},\"id\":\"1e3e960c-95d3-4029-b5be-c0fd629b0c27\",\"type\":\"Triangle\"},{\"attributes\":{\"data_source\":{\"id\":\"7f36a8dc-2f0c-4eb7-9668-2c464878e3d1\",\"type\":\"ColumnDataSource\"},\"glyph\":{\"id\":\"c9e11a81-b102-4fc0-bfdf-670b7dcdc12c\",\"type\":\"Triangle\"},\"hover_glyph\":null,\"muted_glyph\":null,\"nonselection_glyph\":{\"id\":\"1e3e960c-95d3-4029-b5be-c0fd629b0c27\",\"type\":\"Triangle\"},\"selection_glyph\":null,\"view\":{\"id\":\"878ba700-1101-4b51-abe3-88726dce07f0\",\"type\":\"CDSView\"}},\"id\":\"1bec980e-c090-49a9-8c47-4617fc028355\",\"type\":\"GlyphRenderer\"},{\"attributes\":{\"source\":{\"id\":\"7f36a8dc-2f0c-4eb7-9668-2c464878e3d1\",\"type\":\"ColumnDataSource\"}},\"id\":\"878ba700-1101-4b51-abe3-88726dce07f0\",\"type\":\"CDSView\"},{\"attributes\":{},\"id\":\"e4b5891c-2926-47da-b2a4-7a62bfbc96f0\",\"type\":\"BasicTickFormatter\"},{\"attributes\":{\"plot\":null,\"text\":\"\"},\"id\":\"e73dbad8-074f-48ab-a66e-ad95b5af3dd2\",\"type\":\"Title\"},{\"attributes\":{\"callback\":null,\"column_names\":[\"x\",\"y\"],\"data\":{\"x\":[0,1,2,3,4,5,6,7,8,9,10],\"y\":[5,4,3,2,1,0,1,2,3,4,5]}},\"id\":\"374a8cf3-63cb-4dbf-a0bd-4d07af6e5e0a\",\"type\":\"ColumnDataSource\"},{\"attributes\":{\"fill_color\":{\"value\":\"olive\"},\"line_color\":{\"value\":\"olive\"},\"size\":{\"units\":\"screen\",\"value\":10},\"x\":{\"field\":\"x\"},\"y\":{\"field\":\"y\"}},\"id\":\"9905e290-a1e0-4ed2-b1d3-f2550fc97610\",\"type\":\"Square\"},{\"attributes\":{},\"id\":\"6c78f114-56ee-4170-bbfc-5b5ef0ff31e7\",\"type\":\"LinearScale\"},{\"attributes\":{\"active_drag\":\"auto\",\"active_inspect\":\"auto\",\"active_scroll\":\"auto\",\"active_tap\":\"auto\",\"tools\":[{\"id\":\"3a6fe30a-7b33-482c-8693-01c0618c825b\",\"type\":\"PanTool\"},{\"id\":\"2d1afb68-cfb9-4ab7-9304-4b6badc2011c\",\"type\":\"WheelZoomTool\"}]},\"id\":\"c2e838ff-5de5-4947-93cc-f1aa280bb9e0\",\"type\":\"Toolbar\"},{\"attributes\":{\"plot\":{\"id\":\"0660f0a5-8869-4a4b-9c06-5629a287475f\",\"subtype\":\"Figure\",\"type\":\"Plot\"},\"ticker\":{\"id\":\"7fc38d59-4425-447f-a77b-e3b8522b3e19\",\"type\":\"BasicTicker\"}},\"id\":\"463e6624-08c1-4029-83c6-a92b021bca62\",\"type\":\"Grid\"},{\"attributes\":{\"callback\":null},\"id\":\"5947d9d9-b3fa-46dc-974c-823e01c72293\",\"type\":\"DataRange1d\"},{\"attributes\":{},\"id\":\"4de526e0-c018-47af-998a-80ad2c2b4666\",\"type\":\"LinearScale\"},{\"attributes\":{\"formatter\":{\"id\":\"63503ff4-e3b4-403c-8159-fec231a83fac\",\"type\":\"BasicTickFormatter\"},\"plot\":{\"id\":\"0660f0a5-8869-4a4b-9c06-5629a287475f\",\"subtype\":\"Figure\",\"type\":\"Plot\"},\"ticker\":{\"id\":\"7fc38d59-4425-447f-a77b-e3b8522b3e19\",\"type\":\"BasicTicker\"}},\"id\":\"8de59989-f9f2-4e68-9c00-a0636748485c\",\"type\":\"LinearAxis\"},{\"attributes\":{},\"id\":\"7fc38d59-4425-447f-a77b-e3b8522b3e19\",\"type\":\"BasicTicker\"},{\"attributes\":{\"formatter\":{\"id\":\"355734e9-6548-4069-9220-65ef633fe1e0\",\"type\":\"BasicTickFormatter\"},\"plot\":{\"id\":\"0660f0a5-8869-4a4b-9c06-5629a287475f\",\"subtype\":\"Figure\",\"type\":\"Plot\"},\"ticker\":{\"id\":\"232cbcbf-7fe4-457d-82a0-d5e4cfd8a813\",\"type\":\"BasicTicker\"}},\"id\":\"ecdfaba3-25ff-496d-bd01-15aada1e19f0\",\"type\":\"LinearAxis\"},{\"attributes\":{},\"id\":\"232cbcbf-7fe4-457d-82a0-d5e4cfd8a813\",\"type\":\"BasicTicker\"},{\"attributes\":{\"dimension\":1,\"plot\":{\"id\":\"0660f0a5-8869-4a4b-9c06-5629a287475f\",\"subtype\":\"Figure\",\"type\":\"Plot\"},\"ticker\":{\"id\":\"232cbcbf-7fe4-457d-82a0-d5e4cfd8a813\",\"type\":\"BasicTicker\"}},\"id\":\"b1ffeaba-ae50-4beb-992c-c16db0e5f9b2\",\"type\":\"Grid\"},{\"attributes\":{\"fill_alpha\":{\"value\":0.1},\"fill_color\":{\"value\":\"#1f77b4\"},\"line_alpha\":{\"value\":0.1},\"line_color\":{\"value\":\"#1f77b4\"},\"size\":{\"units\":\"screen\",\"value\":10},\"x\":{\"field\":\"x\"},\"y\":{\"field\":\"y\"}},\"id\":\"d9815900-7e3b-4e53-8ca8-48aa2a8ae16a\",\"type\":\"Circle\"},{\"attributes\":{\"children\":[{\"id\":\"3d1dd230-2bdd-402d-903e-f38b8ca1402e\",\"subtype\":\"Figure\",\"type\":\"Plot\"},{\"id\":\"0316d59b-37aa-4e10-bb1c-40fb82b5587e\",\"subtype\":\"Figure\",\"type\":\"Plot\"},{\"id\":\"0660f0a5-8869-4a4b-9c06-5629a287475f\",\"subtype\":\"Figure\",\"type\":\"Plot\"}]},\"id\":\"a764b8b9-2a57-4225-bf9c-11d7991bf48e\",\"type\":\"Row\"},{\"attributes\":{},\"id\":\"3a6fe30a-7b33-482c-8693-01c0618c825b\",\"type\":\"PanTool\"},{\"attributes\":{\"children\":[{\"id\":\"a764b8b9-2a57-4225-bf9c-11d7991bf48e\",\"type\":\"Row\"}]},\"id\":\"c310a779-41ed-4a5c-9e6a-b0a494753fb7\",\"type\":\"Column\"},{\"attributes\":{},\"id\":\"2d1afb68-cfb9-4ab7-9304-4b6badc2011c\",\"type\":\"WheelZoomTool\"},{\"attributes\":{\"fill_alpha\":{\"value\":0.1},\"fill_color\":{\"value\":\"#1f77b4\"},\"line_alpha\":{\"value\":0.1},\"line_color\":{\"value\":\"#1f77b4\"},\"size\":{\"units\":\"screen\",\"value\":10},\"x\":{\"field\":\"x\"},\"y\":{\"field\":\"y\"}},\"id\":\"c6274c2c-8d7a-44e2-9fd0-9cc2345cfdfe\",\"type\":\"Square\"},{\"attributes\":{\"data_source\":{\"id\":\"374a8cf3-63cb-4dbf-a0bd-4d07af6e5e0a\",\"type\":\"ColumnDataSource\"},\"glyph\":{\"id\":\"9905e290-a1e0-4ed2-b1d3-f2550fc97610\",\"type\":\"Square\"},\"hover_glyph\":null,\"muted_glyph\":null,\"nonselection_glyph\":{\"id\":\"c6274c2c-8d7a-44e2-9fd0-9cc2345cfdfe\",\"type\":\"Square\"},\"selection_glyph\":null,\"view\":{\"id\":\"052baf76-4c45-4ab4-83ae-fbb739358ab9\",\"type\":\"CDSView\"}},\"id\":\"a1b0216e-622d-495a-b66c-35b062c44d0b\",\"type\":\"GlyphRenderer\"},{\"attributes\":{\"source\":{\"id\":\"374a8cf3-63cb-4dbf-a0bd-4d07af6e5e0a\",\"type\":\"ColumnDataSource\"}},\"id\":\"052baf76-4c45-4ab4-83ae-fbb739358ab9\",\"type\":\"CDSView\"},{\"attributes\":{},\"id\":\"63503ff4-e3b4-403c-8159-fec231a83fac\",\"type\":\"BasicTickFormatter\"},{\"attributes\":{\"plot\":null,\"text\":\"\"},\"id\":\"6237ecc8-0e2d-4777-aafd-49facca507ed\",\"type\":\"Title\"}],\"root_ids\":[\"a8527e59-8a2f-4777-8c46-802e6c8e3c06\"]},\"title\":\"Bokeh Application\",\"version\":\"0.12.11\"}};\n",
       "    var render_items = [{\"docid\":\"6dcdaa2c-97eb-494a-a944-f92aa381db1f\",\"elementid\":\"b359d28b-2e55-4b00-a796-5a7ce3f03ac0\",\"modelid\":\"a8527e59-8a2f-4777-8c46-802e6c8e3c06\"}];\n",
       "    root.Bokeh.embed.embed_items(docs_json, render_items);\n",
       "  }\n",
       "  if (root.Bokeh !== undefined) {\n",
       "    embed_document(root);\n",
       "  } else {\n",
       "    var attempts = 0;\n",
       "    var timer = setInterval(function(root) {\n",
       "      if (root.Bokeh !== undefined) {\n",
       "        embed_document(root);\n",
       "        clearInterval(timer);\n",
       "      }\n",
       "      attempts++;\n",
       "      if (attempts > 100) {\n",
       "        console.log(\"Bokeh: ERROR: Unable to embed document because BokehJS library is missing\")\n",
       "        clearInterval(timer);\n",
       "      }\n",
       "    }, 10, root)\n",
       "  }\n",
       "})(window);"
      ],
      "application/vnd.bokehjs_exec.v0+json": ""
     },
     "metadata": {
      "application/vnd.bokehjs_exec.v0+json": {
       "id": "a8527e59-8a2f-4777-8c46-802e6c8e3c06"
      }
     },
     "output_type": "display_data"
    }
   ],
   "source": [
    "from bokeh.layouts import gridplot\n",
    "\n",
    "x = list(range(11))\n",
    "y0, y1, y2 = x, [10-i for i in x], [abs(i-5) for i in x]\n",
    "\n",
    "plot_options = dict(width=250, plot_height=250, tools='pan,wheel_zoom')\n",
    "\n",
    "# create a new plot\n",
    "s1 = figure(**plot_options)\n",
    "s1.circle(x, y0, size=10, color=\"navy\")\n",
    "\n",
    "# create a new plot and share both ranges\n",
    "s2 = figure(x_range=s1.x_range, y_range=s1.y_range, **plot_options)\n",
    "s2.triangle(x, y1, size=10, color=\"firebrick\")\n",
    "\n",
    "# create a new plot and share only one range\n",
    "s3 = figure(x_range=s1.x_range, **plot_options)\n",
    "s3.square(x, y2, size=10, color=\"olive\")\n",
    "\n",
    "p = gridplot([[s1, s2, s3]])\n",
    "\n",
    "# show the results\n",
    "show(p)"
   ]
  },
  {
   "cell_type": "code",
   "execution_count": 4,
   "metadata": {},
   "outputs": [],
   "source": [
    "# EXERCISE: create two plots in a gridplot, and link their ranges\n"
   ]
  },
  {
   "cell_type": "markdown",
   "metadata": {},
   "source": [
    "## Linked brushing\n",
    "\n",
    "Linking selections is accomplished in a similar way, by sharing data sources between plots. Note that normally with ``bokeh.plotting`` and ``bokeh.charts`` creating a default data source for simple plots is handled automatically. However to share a data source, we must create them by hand and pass them explicitly. This is illustrated in the example below:"
   ]
  },
  {
   "cell_type": "code",
   "execution_count": 6,
   "metadata": {},
   "outputs": [
    {
     "data": {
      "text/html": [
       "\n",
       "<div class=\"bk-root\">\n",
       "    <div class=\"bk-plotdiv\" id=\"b37af928-0020-42f3-aa75-b50b2684f4e3\"></div>\n",
       "</div>"
      ]
     },
     "metadata": {},
     "output_type": "display_data"
    },
    {
     "data": {
      "application/javascript": [
       "(function(root) {\n",
       "  function embed_document(root) {\n",
       "    var docs_json = {\"822ea5f9-279f-468a-a7e6-0af68a010fea\":{\"roots\":{\"references\":[{\"attributes\":{\"children\":[{\"id\":\"fde2ef84-dfcd-4999-ab74-5d9948cb1e0f\",\"type\":\"ToolbarBox\"},{\"id\":\"0d3147bd-3e6d-4e89-a358-e42d1438d45a\",\"type\":\"Column\"}]},\"id\":\"07ae75c8-2551-4d7e-9533-b718325ce30b\",\"type\":\"Column\"},{\"attributes\":{},\"id\":\"562a3d79-9811-44fc-bde4-109b977b813f\",\"type\":\"BasicTicker\"},{\"attributes\":{},\"id\":\"9069ef98-5a98-49b8-94ae-296c1d0f8998\",\"type\":\"BasicTickFormatter\"},{\"attributes\":{\"callback\":null,\"overlay\":{\"id\":\"be6e8dc2-2af1-4cc1-8b65-b41da744c6a6\",\"type\":\"PolyAnnotation\"}},\"id\":\"03f60c72-fe10-4189-88db-e5c74ccb63fb\",\"type\":\"LassoSelectTool\"},{\"attributes\":{},\"id\":\"74acb98c-3551-4582-af71-2ea78c24f99a\",\"type\":\"HelpTool\"},{\"attributes\":{\"fill_color\":{\"value\":\"#1f77b4\"},\"line_color\":{\"value\":\"#1f77b4\"},\"x\":{\"field\":\"x\"},\"y\":{\"field\":\"y0\"}},\"id\":\"b8660833-8c58-44dd-a285-617a5302908b\",\"type\":\"Circle\"},{\"attributes\":{\"below\":[{\"id\":\"e73caa98-5762-4c17-9de4-faadf5409daa\",\"type\":\"LinearAxis\"}],\"left\":[{\"id\":\"2bb68b61-1820-43ab-ae6c-f43fa87301a8\",\"type\":\"LinearAxis\"}],\"plot_height\":300,\"plot_width\":300,\"renderers\":[{\"id\":\"e73caa98-5762-4c17-9de4-faadf5409daa\",\"type\":\"LinearAxis\"},{\"id\":\"e585c96b-d565-4825-bfe4-e2e4f7b598aa\",\"type\":\"Grid\"},{\"id\":\"2bb68b61-1820-43ab-ae6c-f43fa87301a8\",\"type\":\"LinearAxis\"},{\"id\":\"3bea3dbe-1c4b-4c9d-9182-0d160555169d\",\"type\":\"Grid\"},{\"id\":\"b31c80d1-10d6-4bc2-ab34-68b961051fbc\",\"type\":\"BoxAnnotation\"},{\"id\":\"bd7b0624-40d4-497e-ad28-dbe8b7eb732e\",\"type\":\"PolyAnnotation\"},{\"id\":\"ed9ecbca-79f9-4ad7-ac46-8553cfc9d028\",\"type\":\"GlyphRenderer\"}],\"title\":{\"id\":\"0114b5c2-e65c-4231-aca5-40596da04220\",\"type\":\"Title\"},\"toolbar\":{\"id\":\"3e7cbb4b-e757-481b-a327-efed393d9d39\",\"type\":\"Toolbar\"},\"toolbar_location\":null,\"x_range\":{\"id\":\"085f525a-367d-4a73-8ce4-e2d7e6448980\",\"type\":\"DataRange1d\"},\"x_scale\":{\"id\":\"fae3269a-00db-4031-9f4c-9884f874cb4c\",\"type\":\"LinearScale\"},\"y_range\":{\"id\":\"59987592-a0d4-4874-bcc6-e8af3a4ad821\",\"type\":\"DataRange1d\"},\"y_scale\":{\"id\":\"6751e25c-844d-4c7a-ab00-1b8b5f262069\",\"type\":\"LinearScale\"}},\"id\":\"7dcb31c9-0c47-40ef-bd27-86f0a56b1ba8\",\"subtype\":\"Figure\",\"type\":\"Plot\"},{\"attributes\":{\"bottom_units\":\"screen\",\"fill_alpha\":{\"value\":0.5},\"fill_color\":{\"value\":\"lightgrey\"},\"left_units\":\"screen\",\"level\":\"overlay\",\"line_alpha\":{\"value\":1.0},\"line_color\":{\"value\":\"black\"},\"line_dash\":[4,4],\"line_width\":{\"value\":2},\"plot\":null,\"render_mode\":\"css\",\"right_units\":\"screen\",\"top_units\":\"screen\"},\"id\":\"1e96fae3-8979-4f14-921b-42a177178d2f\",\"type\":\"BoxAnnotation\"},{\"attributes\":{\"dimension\":1,\"plot\":{\"id\":\"a60d28d2-ef3f-447c-8f08-0628f69e55d9\",\"subtype\":\"Figure\",\"type\":\"Plot\"},\"ticker\":{\"id\":\"562a3d79-9811-44fc-bde4-109b977b813f\",\"type\":\"BasicTicker\"}},\"id\":\"1260e276-a1aa-4418-883c-054f65ce6d36\",\"type\":\"Grid\"},{\"attributes\":{\"source\":{\"id\":\"7f373389-2678-481a-89eb-9821df2ce0db\",\"type\":\"ColumnDataSource\"}},\"id\":\"e0f69f04-75aa-492a-9869-af39541e68f4\",\"type\":\"CDSView\"},{\"attributes\":{\"fill_alpha\":{\"value\":0.5},\"fill_color\":{\"value\":\"lightgrey\"},\"level\":\"overlay\",\"line_alpha\":{\"value\":1.0},\"line_color\":{\"value\":\"black\"},\"line_dash\":[4,4],\"line_width\":{\"value\":2},\"plot\":null,\"xs_units\":\"screen\",\"ys_units\":\"screen\"},\"id\":\"be6e8dc2-2af1-4cc1-8b65-b41da744c6a6\",\"type\":\"PolyAnnotation\"},{\"attributes\":{\"formatter\":{\"id\":\"fcc8ac60-54ec-4708-9ef7-db5b1515ac18\",\"type\":\"BasicTickFormatter\"},\"plot\":{\"id\":\"a60d28d2-ef3f-447c-8f08-0628f69e55d9\",\"subtype\":\"Figure\",\"type\":\"Plot\"},\"ticker\":{\"id\":\"4c0660e0-f748-4249-addc-084e77e79e66\",\"type\":\"BasicTicker\"}},\"id\":\"6b6d95d0-b076-4193-af1c-262c51e10b12\",\"type\":\"LinearAxis\"},{\"attributes\":{\"data_source\":{\"id\":\"7f373389-2678-481a-89eb-9821df2ce0db\",\"type\":\"ColumnDataSource\"},\"glyph\":{\"id\":\"b8660833-8c58-44dd-a285-617a5302908b\",\"type\":\"Circle\"},\"hover_glyph\":null,\"muted_glyph\":null,\"nonselection_glyph\":{\"id\":\"900cce1e-3149-4288-bc20-59e91e24e16c\",\"type\":\"Circle\"},\"selection_glyph\":null,\"view\":{\"id\":\"e0f69f04-75aa-492a-9869-af39541e68f4\",\"type\":\"CDSView\"}},\"id\":\"42554f9b-6fe4-4f63-88ef-0600eeb05156\",\"type\":\"GlyphRenderer\"},{\"attributes\":{},\"id\":\"fae3269a-00db-4031-9f4c-9884f874cb4c\",\"type\":\"LinearScale\"},{\"attributes\":{},\"id\":\"e289f237-f9b6-44ab-87fb-a99e096120a4\",\"type\":\"BasicTickFormatter\"},{\"attributes\":{},\"id\":\"fcc8ac60-54ec-4708-9ef7-db5b1515ac18\",\"type\":\"BasicTickFormatter\"},{\"attributes\":{\"tools\":[{\"id\":\"8a5bba84-9878-4180-8977-7b202848531e\",\"type\":\"BoxSelectTool\"},{\"id\":\"03f60c72-fe10-4189-88db-e5c74ccb63fb\",\"type\":\"LassoSelectTool\"},{\"id\":\"74acb98c-3551-4582-af71-2ea78c24f99a\",\"type\":\"HelpTool\"},{\"id\":\"0cbe328b-3c07-48a1-a9d8-a4fc99901e6e\",\"type\":\"BoxSelectTool\"},{\"id\":\"e8b8f233-f49c-43ba-bdd8-ed9c512cda36\",\"type\":\"LassoSelectTool\"},{\"id\":\"15bb3e50-f08d-4cf9-a96c-4012285d10c5\",\"type\":\"HelpTool\"}]},\"id\":\"b392c7be-1ddb-42ed-b0e2-240dd49f2ba8\",\"type\":\"ProxyToolbar\"},{\"attributes\":{\"plot\":null,\"text\":\"\"},\"id\":\"0a7fc7f6-60b8-454b-9e61-a32915b1223f\",\"type\":\"Title\"},{\"attributes\":{\"bottom_units\":\"screen\",\"fill_alpha\":{\"value\":0.5},\"fill_color\":{\"value\":\"lightgrey\"},\"left_units\":\"screen\",\"level\":\"overlay\",\"line_alpha\":{\"value\":1.0},\"line_color\":{\"value\":\"black\"},\"line_dash\":[4,4],\"line_width\":{\"value\":2},\"plot\":null,\"render_mode\":\"css\",\"right_units\":\"screen\",\"top_units\":\"screen\"},\"id\":\"b31c80d1-10d6-4bc2-ab34-68b961051fbc\",\"type\":\"BoxAnnotation\"},{\"attributes\":{},\"id\":\"6751e25c-844d-4c7a-ab00-1b8b5f262069\",\"type\":\"LinearScale\"},{\"attributes\":{\"active_drag\":\"auto\",\"active_inspect\":\"auto\",\"active_scroll\":\"auto\",\"active_tap\":\"auto\",\"tools\":[{\"id\":\"0cbe328b-3c07-48a1-a9d8-a4fc99901e6e\",\"type\":\"BoxSelectTool\"},{\"id\":\"e8b8f233-f49c-43ba-bdd8-ed9c512cda36\",\"type\":\"LassoSelectTool\"},{\"id\":\"15bb3e50-f08d-4cf9-a96c-4012285d10c5\",\"type\":\"HelpTool\"}]},\"id\":\"3e7cbb4b-e757-481b-a327-efed393d9d39\",\"type\":\"Toolbar\"},{\"attributes\":{},\"id\":\"4c0660e0-f748-4249-addc-084e77e79e66\",\"type\":\"BasicTicker\"},{\"attributes\":{\"callback\":null},\"id\":\"59987592-a0d4-4874-bcc6-e8af3a4ad821\",\"type\":\"DataRange1d\"},{\"attributes\":{\"plot\":{\"id\":\"7dcb31c9-0c47-40ef-bd27-86f0a56b1ba8\",\"subtype\":\"Figure\",\"type\":\"Plot\"},\"ticker\":{\"id\":\"9a87cb3c-1e54-468a-a489-7fa375d3c1d7\",\"type\":\"BasicTicker\"}},\"id\":\"e585c96b-d565-4825-bfe4-e2e4f7b598aa\",\"type\":\"Grid\"},{\"attributes\":{\"formatter\":{\"id\":\"5e832822-c118-4719-b016-a987eac81f99\",\"type\":\"BasicTickFormatter\"},\"plot\":{\"id\":\"7dcb31c9-0c47-40ef-bd27-86f0a56b1ba8\",\"subtype\":\"Figure\",\"type\":\"Plot\"},\"ticker\":{\"id\":\"9a87cb3c-1e54-468a-a489-7fa375d3c1d7\",\"type\":\"BasicTicker\"}},\"id\":\"e73caa98-5762-4c17-9de4-faadf5409daa\",\"type\":\"LinearAxis\"},{\"attributes\":{},\"id\":\"9a87cb3c-1e54-468a-a489-7fa375d3c1d7\",\"type\":\"BasicTicker\"},{\"attributes\":{\"formatter\":{\"id\":\"e289f237-f9b6-44ab-87fb-a99e096120a4\",\"type\":\"BasicTickFormatter\"},\"plot\":{\"id\":\"7dcb31c9-0c47-40ef-bd27-86f0a56b1ba8\",\"subtype\":\"Figure\",\"type\":\"Plot\"},\"ticker\":{\"id\":\"2c39c4c8-a2ee-4183-802a-1c2a643dfbbb\",\"type\":\"BasicTicker\"}},\"id\":\"2bb68b61-1820-43ab-ae6c-f43fa87301a8\",\"type\":\"LinearAxis\"},{\"attributes\":{\"callback\":null},\"id\":\"42aa6459-f642-4ca4-bbab-a524a359769d\",\"type\":\"DataRange1d\"},{\"attributes\":{},\"id\":\"2c39c4c8-a2ee-4183-802a-1c2a643dfbbb\",\"type\":\"BasicTicker\"},{\"attributes\":{},\"id\":\"1ff42a27-3001-4b25-882a-28c3030f648d\",\"type\":\"LinearScale\"},{\"attributes\":{\"dimension\":1,\"plot\":{\"id\":\"7dcb31c9-0c47-40ef-bd27-86f0a56b1ba8\",\"subtype\":\"Figure\",\"type\":\"Plot\"},\"ticker\":{\"id\":\"2c39c4c8-a2ee-4183-802a-1c2a643dfbbb\",\"type\":\"BasicTicker\"}},\"id\":\"3bea3dbe-1c4b-4c9d-9182-0d160555169d\",\"type\":\"Grid\"},{\"attributes\":{\"toolbar\":{\"id\":\"b392c7be-1ddb-42ed-b0e2-240dd49f2ba8\",\"type\":\"ProxyToolbar\"},\"toolbar_location\":\"above\"},\"id\":\"fde2ef84-dfcd-4999-ab74-5d9948cb1e0f\",\"type\":\"ToolbarBox\"},{\"attributes\":{\"fill_color\":{\"value\":\"#1f77b4\"},\"line_color\":{\"value\":\"#1f77b4\"},\"x\":{\"field\":\"x\"},\"y\":{\"field\":\"y1\"}},\"id\":\"59250937-6c7b-49ce-b1c3-56d8353f5db5\",\"type\":\"Circle\"},{\"attributes\":{\"formatter\":{\"id\":\"9069ef98-5a98-49b8-94ae-296c1d0f8998\",\"type\":\"BasicTickFormatter\"},\"plot\":{\"id\":\"a60d28d2-ef3f-447c-8f08-0628f69e55d9\",\"subtype\":\"Figure\",\"type\":\"Plot\"},\"ticker\":{\"id\":\"562a3d79-9811-44fc-bde4-109b977b813f\",\"type\":\"BasicTicker\"}},\"id\":\"223c192c-0332-407e-ad36-e51371292bc7\",\"type\":\"LinearAxis\"},{\"attributes\":{\"callback\":null,\"overlay\":{\"id\":\"b31c80d1-10d6-4bc2-ab34-68b961051fbc\",\"type\":\"BoxAnnotation\"},\"renderers\":[{\"id\":\"ed9ecbca-79f9-4ad7-ac46-8553cfc9d028\",\"type\":\"GlyphRenderer\"}]},\"id\":\"0cbe328b-3c07-48a1-a9d8-a4fc99901e6e\",\"type\":\"BoxSelectTool\"},{\"attributes\":{\"active_drag\":\"auto\",\"active_inspect\":\"auto\",\"active_scroll\":\"auto\",\"active_tap\":\"auto\",\"tools\":[{\"id\":\"8a5bba84-9878-4180-8977-7b202848531e\",\"type\":\"BoxSelectTool\"},{\"id\":\"03f60c72-fe10-4189-88db-e5c74ccb63fb\",\"type\":\"LassoSelectTool\"},{\"id\":\"74acb98c-3551-4582-af71-2ea78c24f99a\",\"type\":\"HelpTool\"}]},\"id\":\"300a0d01-cf17-4bce-9941-9223e2fa81fb\",\"type\":\"Toolbar\"},{\"attributes\":{\"fill_alpha\":{\"value\":0.1},\"fill_color\":{\"value\":\"#1f77b4\"},\"line_alpha\":{\"value\":0.1},\"line_color\":{\"value\":\"#1f77b4\"},\"x\":{\"field\":\"x\"},\"y\":{\"field\":\"y1\"}},\"id\":\"a8622fc8-24aa-435d-880b-4f4f513d662a\",\"type\":\"Circle\"},{\"attributes\":{\"plot\":{\"id\":\"a60d28d2-ef3f-447c-8f08-0628f69e55d9\",\"subtype\":\"Figure\",\"type\":\"Plot\"},\"ticker\":{\"id\":\"4c0660e0-f748-4249-addc-084e77e79e66\",\"type\":\"BasicTicker\"}},\"id\":\"23209341-06b9-46ff-bfc0-0fda5481f775\",\"type\":\"Grid\"},{\"attributes\":{\"callback\":null,\"overlay\":{\"id\":\"bd7b0624-40d4-497e-ad28-dbe8b7eb732e\",\"type\":\"PolyAnnotation\"}},\"id\":\"e8b8f233-f49c-43ba-bdd8-ed9c512cda36\",\"type\":\"LassoSelectTool\"},{\"attributes\":{\"callback\":null},\"id\":\"86cf4473-ba34-409a-9b3f-f6b4c9f5a3b5\",\"type\":\"DataRange1d\"},{\"attributes\":{},\"id\":\"15bb3e50-f08d-4cf9-a96c-4012285d10c5\",\"type\":\"HelpTool\"},{\"attributes\":{\"children\":[{\"id\":\"a60d28d2-ef3f-447c-8f08-0628f69e55d9\",\"subtype\":\"Figure\",\"type\":\"Plot\"},{\"id\":\"7dcb31c9-0c47-40ef-bd27-86f0a56b1ba8\",\"subtype\":\"Figure\",\"type\":\"Plot\"}]},\"id\":\"2a0abc54-4d6a-4ad7-a9a9-0fee458aba8e\",\"type\":\"Row\"},{\"attributes\":{\"below\":[{\"id\":\"6b6d95d0-b076-4193-af1c-262c51e10b12\",\"type\":\"LinearAxis\"}],\"left\":[{\"id\":\"223c192c-0332-407e-ad36-e51371292bc7\",\"type\":\"LinearAxis\"}],\"plot_height\":300,\"plot_width\":300,\"renderers\":[{\"id\":\"6b6d95d0-b076-4193-af1c-262c51e10b12\",\"type\":\"LinearAxis\"},{\"id\":\"23209341-06b9-46ff-bfc0-0fda5481f775\",\"type\":\"Grid\"},{\"id\":\"223c192c-0332-407e-ad36-e51371292bc7\",\"type\":\"LinearAxis\"},{\"id\":\"1260e276-a1aa-4418-883c-054f65ce6d36\",\"type\":\"Grid\"},{\"id\":\"1e96fae3-8979-4f14-921b-42a177178d2f\",\"type\":\"BoxAnnotation\"},{\"id\":\"be6e8dc2-2af1-4cc1-8b65-b41da744c6a6\",\"type\":\"PolyAnnotation\"},{\"id\":\"42554f9b-6fe4-4f63-88ef-0600eeb05156\",\"type\":\"GlyphRenderer\"}],\"title\":{\"id\":\"0a7fc7f6-60b8-454b-9e61-a32915b1223f\",\"type\":\"Title\"},\"toolbar\":{\"id\":\"300a0d01-cf17-4bce-9941-9223e2fa81fb\",\"type\":\"Toolbar\"},\"toolbar_location\":null,\"x_range\":{\"id\":\"86cf4473-ba34-409a-9b3f-f6b4c9f5a3b5\",\"type\":\"DataRange1d\"},\"x_scale\":{\"id\":\"6868716f-23c7-4b23-9a67-c0f47f29ad11\",\"type\":\"LinearScale\"},\"y_range\":{\"id\":\"42aa6459-f642-4ca4-bbab-a524a359769d\",\"type\":\"DataRange1d\"},\"y_scale\":{\"id\":\"1ff42a27-3001-4b25-882a-28c3030f648d\",\"type\":\"LinearScale\"}},\"id\":\"a60d28d2-ef3f-447c-8f08-0628f69e55d9\",\"subtype\":\"Figure\",\"type\":\"Plot\"},{\"attributes\":{\"source\":{\"id\":\"7f373389-2678-481a-89eb-9821df2ce0db\",\"type\":\"ColumnDataSource\"}},\"id\":\"fef4f801-4039-49e9-ae4d-9b7673d0ff64\",\"type\":\"CDSView\"},{\"attributes\":{\"fill_alpha\":{\"value\":0.5},\"fill_color\":{\"value\":\"lightgrey\"},\"level\":\"overlay\",\"line_alpha\":{\"value\":1.0},\"line_color\":{\"value\":\"black\"},\"line_dash\":[4,4],\"line_width\":{\"value\":2},\"plot\":null,\"xs_units\":\"screen\",\"ys_units\":\"screen\"},\"id\":\"bd7b0624-40d4-497e-ad28-dbe8b7eb732e\",\"type\":\"PolyAnnotation\"},{\"attributes\":{\"children\":[{\"id\":\"2a0abc54-4d6a-4ad7-a9a9-0fee458aba8e\",\"type\":\"Row\"}]},\"id\":\"0d3147bd-3e6d-4e89-a358-e42d1438d45a\",\"type\":\"Column\"},{\"attributes\":{\"data_source\":{\"id\":\"7f373389-2678-481a-89eb-9821df2ce0db\",\"type\":\"ColumnDataSource\"},\"glyph\":{\"id\":\"59250937-6c7b-49ce-b1c3-56d8353f5db5\",\"type\":\"Circle\"},\"hover_glyph\":null,\"muted_glyph\":null,\"nonselection_glyph\":{\"id\":\"a8622fc8-24aa-435d-880b-4f4f513d662a\",\"type\":\"Circle\"},\"selection_glyph\":null,\"view\":{\"id\":\"fef4f801-4039-49e9-ae4d-9b7673d0ff64\",\"type\":\"CDSView\"}},\"id\":\"ed9ecbca-79f9-4ad7-ac46-8553cfc9d028\",\"type\":\"GlyphRenderer\"},{\"attributes\":{\"fill_alpha\":{\"value\":0.1},\"fill_color\":{\"value\":\"#1f77b4\"},\"line_alpha\":{\"value\":0.1},\"line_color\":{\"value\":\"#1f77b4\"},\"x\":{\"field\":\"x\"},\"y\":{\"field\":\"y0\"}},\"id\":\"900cce1e-3149-4288-bc20-59e91e24e16c\",\"type\":\"Circle\"},{\"attributes\":{},\"id\":\"6868716f-23c7-4b23-9a67-c0f47f29ad11\",\"type\":\"LinearScale\"},{\"attributes\":{\"callback\":null,\"column_names\":[\"x\",\"y0\",\"y1\"],\"data\":{\"x\":[-20,-19,-18,-17,-16,-15,-14,-13,-12,-11,-10,-9,-8,-7,-6,-5,-4,-3,-2,-1,0,1,2,3,4,5,6,7,8,9,10,11,12,13,14,15,16,17,18,19,20],\"y0\":[20,19,18,17,16,15,14,13,12,11,10,9,8,7,6,5,4,3,2,1,0,1,2,3,4,5,6,7,8,9,10,11,12,13,14,15,16,17,18,19,20],\"y1\":[400,361,324,289,256,225,196,169,144,121,100,81,64,49,36,25,16,9,4,1,0,1,4,9,16,25,36,49,64,81,100,121,144,169,196,225,256,289,324,361,400]}},\"id\":\"7f373389-2678-481a-89eb-9821df2ce0db\",\"type\":\"ColumnDataSource\"},{\"attributes\":{},\"id\":\"5e832822-c118-4719-b016-a987eac81f99\",\"type\":\"BasicTickFormatter\"},{\"attributes\":{\"callback\":null},\"id\":\"085f525a-367d-4a73-8ce4-e2d7e6448980\",\"type\":\"DataRange1d\"},{\"attributes\":{\"plot\":null,\"text\":\"\"},\"id\":\"0114b5c2-e65c-4231-aca5-40596da04220\",\"type\":\"Title\"},{\"attributes\":{\"callback\":null,\"overlay\":{\"id\":\"1e96fae3-8979-4f14-921b-42a177178d2f\",\"type\":\"BoxAnnotation\"},\"renderers\":[{\"id\":\"42554f9b-6fe4-4f63-88ef-0600eeb05156\",\"type\":\"GlyphRenderer\"}]},\"id\":\"8a5bba84-9878-4180-8977-7b202848531e\",\"type\":\"BoxSelectTool\"}],\"root_ids\":[\"07ae75c8-2551-4d7e-9533-b718325ce30b\"]},\"title\":\"Bokeh Application\",\"version\":\"0.12.11\"}};\n",
       "    var render_items = [{\"docid\":\"822ea5f9-279f-468a-a7e6-0af68a010fea\",\"elementid\":\"b37af928-0020-42f3-aa75-b50b2684f4e3\",\"modelid\":\"07ae75c8-2551-4d7e-9533-b718325ce30b\"}];\n",
       "    root.Bokeh.embed.embed_items(docs_json, render_items);\n",
       "  }\n",
       "  if (root.Bokeh !== undefined) {\n",
       "    embed_document(root);\n",
       "  } else {\n",
       "    var attempts = 0;\n",
       "    var timer = setInterval(function(root) {\n",
       "      if (root.Bokeh !== undefined) {\n",
       "        embed_document(root);\n",
       "        clearInterval(timer);\n",
       "      }\n",
       "      attempts++;\n",
       "      if (attempts > 100) {\n",
       "        console.log(\"Bokeh: ERROR: Unable to embed document because BokehJS library is missing\")\n",
       "        clearInterval(timer);\n",
       "      }\n",
       "    }, 10, root)\n",
       "  }\n",
       "})(window);"
      ],
      "application/vnd.bokehjs_exec.v0+json": ""
     },
     "metadata": {
      "application/vnd.bokehjs_exec.v0+json": {
       "id": "07ae75c8-2551-4d7e-9533-b718325ce30b"
      }
     },
     "output_type": "display_data"
    }
   ],
   "source": [
    "from bokeh.models import ColumnDataSource\n",
    "\n",
    "x = list(range(-20, 21))\n",
    "y0, y1 = [abs(xx) for xx in x], [xx**2 for xx in x]\n",
    "\n",
    "# create a column data source for the plots to share\n",
    "source = ColumnDataSource(data=dict(x=x, y0=y0, y1=y1))\n",
    "\n",
    "TOOLS = \"box_select,lasso_select,help\"\n",
    "\n",
    "# create a new plot and add a renderer\n",
    "left = figure(tools=TOOLS, width=300, height=300)\n",
    "left.circle('x', 'y0', source=source)\n",
    "\n",
    "# create another new plot and add a renderer\n",
    "right = figure(tools=TOOLS, width=300, height=300)\n",
    "right.circle('x', 'y1', source=source)\n",
    "\n",
    "p = gridplot([[left, right]])\n",
    "\n",
    "show(p)"
   ]
  },
  {
   "cell_type": "code",
   "execution_count": 7,
   "metadata": {},
   "outputs": [],
   "source": [
    "# EXERCISE: create two plots in a gridplot, and link their data sources\n",
    "\n"
   ]
  },
  {
   "cell_type": "markdown",
   "metadata": {},
   "source": [
    "# Hover Tools\n",
    "\n",
    "Bokeh has a Hover Tool that allows additional information to be displayed in a popup whenever the user hovers over a specific glyph. Basic hover tool configuration amounts to providing a list of ``(name, format)`` tuples. The full details can be found in the User's Guide [here](http://bokeh.pydata.org/en/latest/docs/user_guide/tools.html#hovertool).\n",
    "\n",
    "The example below shows some basic usage of the Hover tool with a circle glyph, using hover information defined in utils.py:"
   ]
  },
  {
   "cell_type": "code",
   "execution_count": 8,
   "metadata": {},
   "outputs": [
    {
     "data": {
      "text/html": [
       "\n",
       "<div class=\"bk-root\">\n",
       "    <div class=\"bk-plotdiv\" id=\"3953a873-39fd-4f9b-bb8d-9cfae0d24523\"></div>\n",
       "</div>"
      ]
     },
     "metadata": {},
     "output_type": "display_data"
    },
    {
     "data": {
      "application/javascript": [
       "(function(root) {\n",
       "  function embed_document(root) {\n",
       "    var docs_json = {\"9f2b6dad-7b2c-459e-b084-ca0908339cb5\":{\"roots\":{\"references\":[{\"attributes\":{\"formatter\":{\"id\":\"0e9b9962-34d3-46e6-853b-35051217e963\",\"type\":\"BasicTickFormatter\"},\"plot\":{\"id\":\"5cbc7882-5c85-4f77-a1ae-ac8fa5f28f12\",\"subtype\":\"Figure\",\"type\":\"Plot\"},\"ticker\":{\"id\":\"243377c5-c052-4d52-81f4-40d75cb7319a\",\"type\":\"BasicTicker\"}},\"id\":\"92c5fbf3-ea62-406f-a780-51b4e61b178a\",\"type\":\"LinearAxis\"},{\"attributes\":{\"callback\":null},\"id\":\"ca01a57b-2edf-41a2-88df-f1e764ae6a23\",\"type\":\"DataRange1d\"},{\"attributes\":{\"fill_alpha\":{\"value\":0.1},\"fill_color\":{\"value\":\"#1f77b4\"},\"line_alpha\":{\"value\":0.1},\"line_color\":{\"value\":\"#1f77b4\"},\"size\":{\"units\":\"screen\",\"value\":20},\"x\":{\"field\":\"x\"},\"y\":{\"field\":\"y\"}},\"id\":\"5b8d3c2a-adb1-4070-b857-1baf16e9d75c\",\"type\":\"Circle\"},{\"attributes\":{\"callback\":null,\"column_names\":[\"x\",\"y\",\"desc\"],\"data\":{\"desc\":[\"A\",\"b\",\"C\",\"d\",\"E\"],\"x\":[1,2,3,4,5],\"y\":[2,5,8,2,7]}},\"id\":\"82c79983-99fc-43bd-962a-14500dfc07b0\",\"type\":\"ColumnDataSource\"},{\"attributes\":{\"fill_color\":{\"value\":\"#1f77b4\"},\"line_color\":{\"value\":\"#1f77b4\"},\"size\":{\"units\":\"screen\",\"value\":20},\"x\":{\"field\":\"x\"},\"y\":{\"field\":\"y\"}},\"id\":\"f9cdd3bc-bea8-475e-a1c2-fbee32a2de77\",\"type\":\"Circle\"},{\"attributes\":{\"active_drag\":\"auto\",\"active_inspect\":\"auto\",\"active_scroll\":\"auto\",\"active_tap\":\"auto\",\"tools\":[{\"id\":\"ecd055de-c03e-4741-aeb0-6c04130eee0f\",\"type\":\"HoverTool\"}]},\"id\":\"8923783b-0731-49da-adde-5d8bbc5f1366\",\"type\":\"Toolbar\"},{\"attributes\":{\"below\":[{\"id\":\"92c5fbf3-ea62-406f-a780-51b4e61b178a\",\"type\":\"LinearAxis\"}],\"left\":[{\"id\":\"f9bcef35-7c82-4a1b-93db-87dd9340a92e\",\"type\":\"LinearAxis\"}],\"plot_height\":300,\"plot_width\":300,\"renderers\":[{\"id\":\"92c5fbf3-ea62-406f-a780-51b4e61b178a\",\"type\":\"LinearAxis\"},{\"id\":\"819ca9cb-39e0-4796-a7b3-12cafd4f6999\",\"type\":\"Grid\"},{\"id\":\"f9bcef35-7c82-4a1b-93db-87dd9340a92e\",\"type\":\"LinearAxis\"},{\"id\":\"afe3c0e9-b1c1-4abc-a6f2-471533c8f98c\",\"type\":\"Grid\"},{\"id\":\"e826dad9-3105-49b4-bf1e-8fd6ab938222\",\"type\":\"GlyphRenderer\"}],\"title\":{\"id\":\"66edf27d-5a0b-4b32-ba59-58f86c3834d5\",\"type\":\"Title\"},\"toolbar\":{\"id\":\"8923783b-0731-49da-adde-5d8bbc5f1366\",\"type\":\"Toolbar\"},\"x_range\":{\"id\":\"ca01a57b-2edf-41a2-88df-f1e764ae6a23\",\"type\":\"DataRange1d\"},\"x_scale\":{\"id\":\"b2791638-16f5-4760-8ea8-0b6bf9cd8ade\",\"type\":\"LinearScale\"},\"y_range\":{\"id\":\"c78fa76a-4fa8-427d-85e9-8c71f5ee33b2\",\"type\":\"DataRange1d\"},\"y_scale\":{\"id\":\"adbb5ece-848d-493b-a005-f8868337c228\",\"type\":\"LinearScale\"}},\"id\":\"5cbc7882-5c85-4f77-a1ae-ac8fa5f28f12\",\"subtype\":\"Figure\",\"type\":\"Plot\"},{\"attributes\":{\"callback\":null,\"tooltips\":[[\"index\",\"$index\"],[\"(x,y)\",\"($x, $y)\"],[\"desc\",\"@desc\"]]},\"id\":\"ecd055de-c03e-4741-aeb0-6c04130eee0f\",\"type\":\"HoverTool\"},{\"attributes\":{\"plot\":{\"id\":\"5cbc7882-5c85-4f77-a1ae-ac8fa5f28f12\",\"subtype\":\"Figure\",\"type\":\"Plot\"},\"ticker\":{\"id\":\"243377c5-c052-4d52-81f4-40d75cb7319a\",\"type\":\"BasicTicker\"}},\"id\":\"819ca9cb-39e0-4796-a7b3-12cafd4f6999\",\"type\":\"Grid\"},{\"attributes\":{},\"id\":\"0e9b9962-34d3-46e6-853b-35051217e963\",\"type\":\"BasicTickFormatter\"},{\"attributes\":{},\"id\":\"b2791638-16f5-4760-8ea8-0b6bf9cd8ade\",\"type\":\"LinearScale\"},{\"attributes\":{},\"id\":\"243377c5-c052-4d52-81f4-40d75cb7319a\",\"type\":\"BasicTicker\"},{\"attributes\":{\"dimension\":1,\"plot\":{\"id\":\"5cbc7882-5c85-4f77-a1ae-ac8fa5f28f12\",\"subtype\":\"Figure\",\"type\":\"Plot\"},\"ticker\":{\"id\":\"5977d1d0-4efc-4a90-86f1-eee1f5fe6503\",\"type\":\"BasicTicker\"}},\"id\":\"afe3c0e9-b1c1-4abc-a6f2-471533c8f98c\",\"type\":\"Grid\"},{\"attributes\":{\"source\":{\"id\":\"82c79983-99fc-43bd-962a-14500dfc07b0\",\"type\":\"ColumnDataSource\"}},\"id\":\"002497a2-12db-4080-9b01-3b113ad2951c\",\"type\":\"CDSView\"},{\"attributes\":{\"plot\":null,\"text\":\"Mouse over the dots\"},\"id\":\"66edf27d-5a0b-4b32-ba59-58f86c3834d5\",\"type\":\"Title\"},{\"attributes\":{\"data_source\":{\"id\":\"82c79983-99fc-43bd-962a-14500dfc07b0\",\"type\":\"ColumnDataSource\"},\"glyph\":{\"id\":\"f9cdd3bc-bea8-475e-a1c2-fbee32a2de77\",\"type\":\"Circle\"},\"hover_glyph\":null,\"muted_glyph\":null,\"nonselection_glyph\":{\"id\":\"5b8d3c2a-adb1-4070-b857-1baf16e9d75c\",\"type\":\"Circle\"},\"selection_glyph\":null,\"view\":{\"id\":\"002497a2-12db-4080-9b01-3b113ad2951c\",\"type\":\"CDSView\"}},\"id\":\"e826dad9-3105-49b4-bf1e-8fd6ab938222\",\"type\":\"GlyphRenderer\"},{\"attributes\":{},\"id\":\"5977d1d0-4efc-4a90-86f1-eee1f5fe6503\",\"type\":\"BasicTicker\"},{\"attributes\":{\"callback\":null},\"id\":\"c78fa76a-4fa8-427d-85e9-8c71f5ee33b2\",\"type\":\"DataRange1d\"},{\"attributes\":{\"formatter\":{\"id\":\"7a427744-5962-4b1e-9622-c26f6e5e571f\",\"type\":\"BasicTickFormatter\"},\"plot\":{\"id\":\"5cbc7882-5c85-4f77-a1ae-ac8fa5f28f12\",\"subtype\":\"Figure\",\"type\":\"Plot\"},\"ticker\":{\"id\":\"5977d1d0-4efc-4a90-86f1-eee1f5fe6503\",\"type\":\"BasicTicker\"}},\"id\":\"f9bcef35-7c82-4a1b-93db-87dd9340a92e\",\"type\":\"LinearAxis\"},{\"attributes\":{},\"id\":\"adbb5ece-848d-493b-a005-f8868337c228\",\"type\":\"LinearScale\"},{\"attributes\":{},\"id\":\"7a427744-5962-4b1e-9622-c26f6e5e571f\",\"type\":\"BasicTickFormatter\"}],\"root_ids\":[\"5cbc7882-5c85-4f77-a1ae-ac8fa5f28f12\"]},\"title\":\"Bokeh Application\",\"version\":\"0.12.11\"}};\n",
       "    var render_items = [{\"docid\":\"9f2b6dad-7b2c-459e-b084-ca0908339cb5\",\"elementid\":\"3953a873-39fd-4f9b-bb8d-9cfae0d24523\",\"modelid\":\"5cbc7882-5c85-4f77-a1ae-ac8fa5f28f12\"}];\n",
       "    root.Bokeh.embed.embed_items(docs_json, render_items);\n",
       "  }\n",
       "  if (root.Bokeh !== undefined) {\n",
       "    embed_document(root);\n",
       "  } else {\n",
       "    var attempts = 0;\n",
       "    var timer = setInterval(function(root) {\n",
       "      if (root.Bokeh !== undefined) {\n",
       "        embed_document(root);\n",
       "        clearInterval(timer);\n",
       "      }\n",
       "      attempts++;\n",
       "      if (attempts > 100) {\n",
       "        console.log(\"Bokeh: ERROR: Unable to embed document because BokehJS library is missing\")\n",
       "        clearInterval(timer);\n",
       "      }\n",
       "    }, 10, root)\n",
       "  }\n",
       "})(window);"
      ],
      "application/vnd.bokehjs_exec.v0+json": ""
     },
     "metadata": {
      "application/vnd.bokehjs_exec.v0+json": {
       "id": "5cbc7882-5c85-4f77-a1ae-ac8fa5f28f12"
      }
     },
     "output_type": "display_data"
    }
   ],
   "source": [
    "from bokeh.models import HoverTool\n",
    "\n",
    "source = ColumnDataSource(\n",
    "        data=dict(\n",
    "            x=[1, 2, 3, 4, 5],\n",
    "            y=[2, 5, 8, 2, 7],\n",
    "            desc=['A', 'b', 'C', 'd', 'E'],\n",
    "        )\n",
    "    )\n",
    "\n",
    "hover = HoverTool(\n",
    "        tooltips=[\n",
    "            (\"index\", \"$index\"),\n",
    "            (\"(x,y)\", \"($x, $y)\"),\n",
    "            (\"desc\", \"@desc\"),\n",
    "        ]\n",
    "    )\n",
    "\n",
    "p = figure(plot_width=300, plot_height=300, tools=[hover], title=\"Mouse over the dots\")\n",
    "\n",
    "p.circle('x', 'y', size=20, source=source)\n",
    "\n",
    "show(p)"
   ]
  },
  {
   "cell_type": "markdown",
   "metadata": {},
   "source": [
    "# Widgets"
   ]
  },
  {
   "cell_type": "markdown",
   "metadata": {},
   "source": [
    "Bokeh supports direct integration with a small basic widget set. Thse can be used in conjunction with a Bokeh Server, or with ``CustomJS`` models to add more interactive capability to your documents. You can see a complete list, with example code in the [Adding Widgets](http://bokeh.pydata.org/en/latest/docs/user_guide/interaction.html#adding-widgets) section of the User's Guide. \n",
    "\n",
    "To use the widgets, include them in a layout like you would a plot object:"
   ]
  },
  {
   "cell_type": "code",
   "execution_count": 12,
   "metadata": {},
   "outputs": [
    {
     "data": {
      "text/html": [
       "\n",
       "<div class=\"bk-root\">\n",
       "    <div class=\"bk-plotdiv\" id=\"2e771e6f-9bc4-4702-b4b0-0ce0a96b8cf3\"></div>\n",
       "</div>"
      ]
     },
     "metadata": {},
     "output_type": "display_data"
    },
    {
     "data": {
      "application/javascript": [
       "(function(root) {\n",
       "  function embed_document(root) {\n",
       "    var docs_json = {\"8b9232e7-9a6e-4f60-9041-e242936862d5\":{\"roots\":{\"references\":[{\"attributes\":{\"children\":[{\"id\":\"dbbc939f-a2e1-4113-8049-36e426aba017\",\"type\":\"Slider\"}]},\"id\":\"bc675241-a255-4e07-83ec-aa83e47a9a1f\",\"type\":\"WidgetBox\"},{\"attributes\":{\"callback\":null,\"end\":100,\"start\":10,\"step\":0.1,\"title\":\"foo\",\"value\":10},\"id\":\"dbbc939f-a2e1-4113-8049-36e426aba017\",\"type\":\"Slider\"}],\"root_ids\":[\"bc675241-a255-4e07-83ec-aa83e47a9a1f\"]},\"title\":\"Bokeh Application\",\"version\":\"0.12.11\"}};\n",
       "    var render_items = [{\"docid\":\"8b9232e7-9a6e-4f60-9041-e242936862d5\",\"elementid\":\"2e771e6f-9bc4-4702-b4b0-0ce0a96b8cf3\",\"modelid\":\"bc675241-a255-4e07-83ec-aa83e47a9a1f\"}];\n",
       "    root.Bokeh.embed.embed_items(docs_json, render_items);\n",
       "  }\n",
       "  if (root.Bokeh !== undefined) {\n",
       "    embed_document(root);\n",
       "  } else {\n",
       "    var attempts = 0;\n",
       "    var timer = setInterval(function(root) {\n",
       "      if (root.Bokeh !== undefined) {\n",
       "        embed_document(root);\n",
       "        clearInterval(timer);\n",
       "      }\n",
       "      attempts++;\n",
       "      if (attempts > 100) {\n",
       "        console.log(\"Bokeh: ERROR: Unable to embed document because BokehJS library is missing\")\n",
       "        clearInterval(timer);\n",
       "      }\n",
       "    }, 10, root)\n",
       "  }\n",
       "})(window);"
      ],
      "application/vnd.bokehjs_exec.v0+json": ""
     },
     "metadata": {
      "application/vnd.bokehjs_exec.v0+json": {
       "id": "bc675241-a255-4e07-83ec-aa83e47a9a1f"
      }
     },
     "output_type": "display_data"
    }
   ],
   "source": [
    "from bokeh.layouts import widgetbox\n",
    "from bokeh.models.widgets import Slider\n",
    "\n",
    "\n",
    "slider = Slider(start=10, end=100, value=10, step=.1, title=\"foo\")\n",
    "\n",
    "show(widgetbox(slider))"
   ]
  },
  {
   "cell_type": "code",
   "execution_count": 13,
   "metadata": {},
   "outputs": [],
   "source": [
    "# EXERCISE: create and show a Select widget \n"
   ]
  },
  {
   "cell_type": "markdown",
   "metadata": {},
   "source": [
    "# CustomJS Callbacks"
   ]
  },
  {
   "cell_type": "code",
   "execution_count": 15,
   "metadata": {},
   "outputs": [
    {
     "data": {
      "text/html": [
       "\n",
       "<div class=\"bk-root\">\n",
       "    <div class=\"bk-plotdiv\" id=\"7af54c0c-663f-417b-a64c-0ed50b8aebd6\"></div>\n",
       "</div>"
      ]
     },
     "metadata": {},
     "output_type": "display_data"
    },
    {
     "data": {
      "application/javascript": [
       "(function(root) {\n",
       "  function embed_document(root) {\n",
       "    var docs_json = {\"9192b533-fbfd-4a7e-9c66-c8dfa3859b73\":{\"roots\":{\"references\":[{\"attributes\":{},\"id\":\"1da750db-103d-40de-b966-f7bb00f22434\",\"type\":\"BasicTicker\"},{\"attributes\":{\"formatter\":{\"id\":\"71867a68-8643-433e-84c6-c5a6c625abe3\",\"type\":\"BasicTickFormatter\"},\"plot\":{\"id\":\"80c62099-7bd5-4bd3-9354-597beee89f32\",\"subtype\":\"Figure\",\"type\":\"Plot\"},\"ticker\":{\"id\":\"1da750db-103d-40de-b966-f7bb00f22434\",\"type\":\"BasicTicker\"}},\"id\":\"a190fd8a-31c3-462a-8750-3e85aeebc1a4\",\"type\":\"LinearAxis\"},{\"attributes\":{\"code\":\"alert('hello world')\"},\"id\":\"c9691cef-2332-431c-8c1d-5c565e833a43\",\"type\":\"CustomJS\"},{\"attributes\":{},\"id\":\"71867a68-8643-433e-84c6-c5a6c625abe3\",\"type\":\"BasicTickFormatter\"},{\"attributes\":{\"dimension\":1,\"plot\":{\"id\":\"80c62099-7bd5-4bd3-9354-597beee89f32\",\"subtype\":\"Figure\",\"type\":\"Plot\"},\"ticker\":{\"id\":\"1da750db-103d-40de-b966-f7bb00f22434\",\"type\":\"BasicTicker\"}},\"id\":\"cb115fbd-a76c-4df5-8d17-76430868642f\",\"type\":\"Grid\"},{\"attributes\":{\"fill_alpha\":{\"value\":0.1},\"fill_color\":{\"value\":\"#1f77b4\"},\"line_alpha\":{\"value\":0.1},\"line_color\":{\"value\":\"#1f77b4\"},\"size\":{\"units\":\"screen\",\"value\":20},\"x\":{\"field\":\"x\"},\"y\":{\"field\":\"y\"}},\"id\":\"8078eebd-c869-4b1d-b01a-7b05edb1b0db\",\"type\":\"Circle\"},{\"attributes\":{\"below\":[{\"id\":\"c7cc9e8c-a43f-4f13-9927-307846922681\",\"type\":\"LinearAxis\"}],\"left\":[{\"id\":\"a190fd8a-31c3-462a-8750-3e85aeebc1a4\",\"type\":\"LinearAxis\"}],\"plot_height\":300,\"renderers\":[{\"id\":\"c7cc9e8c-a43f-4f13-9927-307846922681\",\"type\":\"LinearAxis\"},{\"id\":\"02b3bf51-897f-4fda-92b6-51e2c9a8382f\",\"type\":\"Grid\"},{\"id\":\"a190fd8a-31c3-462a-8750-3e85aeebc1a4\",\"type\":\"LinearAxis\"},{\"id\":\"cb115fbd-a76c-4df5-8d17-76430868642f\",\"type\":\"Grid\"},{\"id\":\"8c1b66e5-fba8-4fcd-be3e-76a5e13f7db5\",\"type\":\"GlyphRenderer\"}],\"title\":{\"id\":\"93b2b4c7-244c-4344-b971-22b92f0e112f\",\"type\":\"Title\"},\"toolbar\":{\"id\":\"86b4e1aa-40c4-483d-85f0-89296a55e73b\",\"type\":\"Toolbar\"},\"x_range\":{\"id\":\"0e283a39-002b-42ed-87a7-79a981d2f061\",\"type\":\"DataRange1d\"},\"x_scale\":{\"id\":\"487702cf-4f87-46fe-81f2-b7ca8926cb45\",\"type\":\"LinearScale\"},\"y_range\":{\"id\":\"2a4013ce-bcf7-4c51-b3f5-31e0c0f2dff5\",\"type\":\"DataRange1d\"},\"y_scale\":{\"id\":\"bc2ec61c-19fb-45d2-89c9-a0aa90681bf2\",\"type\":\"LinearScale\"}},\"id\":\"80c62099-7bd5-4bd3-9354-597beee89f32\",\"subtype\":\"Figure\",\"type\":\"Plot\"},{\"attributes\":{\"data_source\":{\"id\":\"a059a3df-be01-4a5e-a484-8543762ba17a\",\"type\":\"ColumnDataSource\"},\"glyph\":{\"id\":\"a8576df0-6653-4c6f-b3d4-bb564a21da6c\",\"type\":\"Circle\"},\"hover_glyph\":null,\"muted_glyph\":null,\"nonselection_glyph\":{\"id\":\"8078eebd-c869-4b1d-b01a-7b05edb1b0db\",\"type\":\"Circle\"},\"selection_glyph\":null,\"view\":{\"id\":\"aac60928-34ab-4bee-a34d-8d21de0438bc\",\"type\":\"CDSView\"}},\"id\":\"8c1b66e5-fba8-4fcd-be3e-76a5e13f7db5\",\"type\":\"GlyphRenderer\"},{\"attributes\":{},\"id\":\"487702cf-4f87-46fe-81f2-b7ca8926cb45\",\"type\":\"LinearScale\"},{\"attributes\":{\"source\":{\"id\":\"a059a3df-be01-4a5e-a484-8543762ba17a\",\"type\":\"ColumnDataSource\"}},\"id\":\"aac60928-34ab-4bee-a34d-8d21de0438bc\",\"type\":\"CDSView\"},{\"attributes\":{\"active_drag\":\"auto\",\"active_inspect\":\"auto\",\"active_scroll\":\"auto\",\"active_tap\":\"auto\",\"tools\":[{\"id\":\"f6cd9fd3-89ea-46b7-96fa-d73d6eaf45bb\",\"type\":\"TapTool\"}]},\"id\":\"86b4e1aa-40c4-483d-85f0-89296a55e73b\",\"type\":\"Toolbar\"},{\"attributes\":{},\"id\":\"599bddd3-4356-443e-9c99-b6c498395aba\",\"type\":\"BasicTickFormatter\"},{\"attributes\":{\"plot\":null,\"text\":\"\"},\"id\":\"93b2b4c7-244c-4344-b971-22b92f0e112f\",\"type\":\"Title\"},{\"attributes\":{},\"id\":\"bc2ec61c-19fb-45d2-89c9-a0aa90681bf2\",\"type\":\"LinearScale\"},{\"attributes\":{},\"id\":\"4cfc5743-fb9a-42e2-b4b4-3809153f1793\",\"type\":\"BasicTicker\"},{\"attributes\":{\"fill_color\":{\"value\":\"#1f77b4\"},\"line_color\":{\"value\":\"#1f77b4\"},\"size\":{\"units\":\"screen\",\"value\":20},\"x\":{\"field\":\"x\"},\"y\":{\"field\":\"y\"}},\"id\":\"a8576df0-6653-4c6f-b3d4-bb564a21da6c\",\"type\":\"Circle\"},{\"attributes\":{\"plot\":{\"id\":\"80c62099-7bd5-4bd3-9354-597beee89f32\",\"subtype\":\"Figure\",\"type\":\"Plot\"},\"ticker\":{\"id\":\"4cfc5743-fb9a-42e2-b4b4-3809153f1793\",\"type\":\"BasicTicker\"}},\"id\":\"02b3bf51-897f-4fda-92b6-51e2c9a8382f\",\"type\":\"Grid\"},{\"attributes\":{\"callback\":null},\"id\":\"0e283a39-002b-42ed-87a7-79a981d2f061\",\"type\":\"DataRange1d\"},{\"attributes\":{\"formatter\":{\"id\":\"599bddd3-4356-443e-9c99-b6c498395aba\",\"type\":\"BasicTickFormatter\"},\"plot\":{\"id\":\"80c62099-7bd5-4bd3-9354-597beee89f32\",\"subtype\":\"Figure\",\"type\":\"Plot\"},\"ticker\":{\"id\":\"4cfc5743-fb9a-42e2-b4b4-3809153f1793\",\"type\":\"BasicTicker\"}},\"id\":\"c7cc9e8c-a43f-4f13-9927-307846922681\",\"type\":\"LinearAxis\"},{\"attributes\":{\"callback\":null},\"id\":\"2a4013ce-bcf7-4c51-b3f5-31e0c0f2dff5\",\"type\":\"DataRange1d\"},{\"attributes\":{\"callback\":{\"id\":\"c9691cef-2332-431c-8c1d-5c565e833a43\",\"type\":\"CustomJS\"}},\"id\":\"f6cd9fd3-89ea-46b7-96fa-d73d6eaf45bb\",\"type\":\"TapTool\"},{\"attributes\":{\"callback\":null,\"column_names\":[\"x\",\"y\"],\"data\":{\"x\":[1,2,3,4,5],\"y\":[2,5,8,2,7]}},\"id\":\"a059a3df-be01-4a5e-a484-8543762ba17a\",\"type\":\"ColumnDataSource\"}],\"root_ids\":[\"80c62099-7bd5-4bd3-9354-597beee89f32\"]},\"title\":\"Bokeh Application\",\"version\":\"0.12.11\"}};\n",
       "    var render_items = [{\"docid\":\"9192b533-fbfd-4a7e-9c66-c8dfa3859b73\",\"elementid\":\"7af54c0c-663f-417b-a64c-0ed50b8aebd6\",\"modelid\":\"80c62099-7bd5-4bd3-9354-597beee89f32\"}];\n",
       "    root.Bokeh.embed.embed_items(docs_json, render_items);\n",
       "  }\n",
       "  if (root.Bokeh !== undefined) {\n",
       "    embed_document(root);\n",
       "  } else {\n",
       "    var attempts = 0;\n",
       "    var timer = setInterval(function(root) {\n",
       "      if (root.Bokeh !== undefined) {\n",
       "        embed_document(root);\n",
       "        clearInterval(timer);\n",
       "      }\n",
       "      attempts++;\n",
       "      if (attempts > 100) {\n",
       "        console.log(\"Bokeh: ERROR: Unable to embed document because BokehJS library is missing\")\n",
       "        clearInterval(timer);\n",
       "      }\n",
       "    }, 10, root)\n",
       "  }\n",
       "})(window);"
      ],
      "application/vnd.bokehjs_exec.v0+json": ""
     },
     "metadata": {
      "application/vnd.bokehjs_exec.v0+json": {
       "id": "80c62099-7bd5-4bd3-9354-597beee89f32"
      }
     },
     "output_type": "display_data"
    }
   ],
   "source": [
    "from bokeh.models import TapTool, CustomJS, ColumnDataSource\n",
    "\n",
    "callback = CustomJS(code=\"alert('hello world')\")\n",
    "tap = TapTool(callback=callback)\n",
    "\n",
    "p = figure(plot_width=600, plot_height=300, tools=[tap])\n",
    "\n",
    "p.circle(x=[1, 2, 3, 4, 5], y=[2, 5, 8, 2, 7], size=20)\n",
    "\n",
    "show(p)"
   ]
  },
  {
   "cell_type": "markdown",
   "metadata": {},
   "source": [
    "## Lots of places to add callbacks\n",
    "\n",
    "* Widgets - Button, Toggle, Dropdown, TextInput, AutocompleteInput, Select, Multiselect, Slider, (DateRangeSlider), DatePicker,\n",
    "* Tools - TapTool, BoxSelectTool, HoverTool,\n",
    "* Selection - ColumnDataSource, AjaxDataSource, BlazeDataSource, ServerDataSource\n",
    "* Ranges - Range1d, DataRange1d, FactorRange\n"
   ]
  },
  {
   "cell_type": "markdown",
   "metadata": {},
   "source": [
    "## Callbacks for widgets\n",
    "\n",
    "Widgets that have values associated can have small JavaScript actions attached to them. These actions (also referred to as \"callbacks\") are executed whenever the widget's value is changed. In order to make it easier to refer to specific Bokeh models (e.g., a data source, or a glyhph) from JavaScript, the ``CustomJS`` obejct also accepts a dictionary of \"args\" that map names to Python Bokeh models. The corresponding JavaScript models are made available automaticaly to the ``CustomJS`` code. \n",
    "\n",
    "And example below shows an action attached to a slider that updates a data source whenever the slider is moved:"
   ]
  },
  {
   "cell_type": "code",
   "execution_count": 16,
   "metadata": {},
   "outputs": [
    {
     "data": {
      "text/html": [
       "\n",
       "<div class=\"bk-root\">\n",
       "    <div class=\"bk-plotdiv\" id=\"e37039a6-af2f-46e5-8e68-20df6c388a87\"></div>\n",
       "</div>"
      ]
     },
     "metadata": {},
     "output_type": "display_data"
    },
    {
     "data": {
      "application/javascript": [
       "(function(root) {\n",
       "  function embed_document(root) {\n",
       "    var docs_json = {\"46a6216d-9c2b-4020-b569-5a3b2463e2e3\":{\"roots\":{\"references\":[{\"attributes\":{\"source\":{\"id\":\"5f49680a-955f-46f3-a66e-25a54f2f1427\",\"type\":\"ColumnDataSource\"}},\"id\":\"3778a71f-f5e8-4ce4-a1b3-02d742a7d186\",\"type\":\"CDSView\"},{\"attributes\":{\"bottom_units\":\"screen\",\"fill_alpha\":{\"value\":0.5},\"fill_color\":{\"value\":\"lightgrey\"},\"left_units\":\"screen\",\"level\":\"overlay\",\"line_alpha\":{\"value\":1.0},\"line_color\":{\"value\":\"black\"},\"line_dash\":[4,4],\"line_width\":{\"value\":2},\"plot\":null,\"render_mode\":\"css\",\"right_units\":\"screen\",\"top_units\":\"screen\"},\"id\":\"96a3eeae-7bb9-4d2c-ac71-8deb42f3999b\",\"type\":\"BoxAnnotation\"},{\"attributes\":{},\"id\":\"ed39c1df-6416-464d-839d-6bb29f95bbf1\",\"type\":\"ResetTool\"},{\"attributes\":{\"active_drag\":\"auto\",\"active_inspect\":\"auto\",\"active_scroll\":\"auto\",\"active_tap\":\"auto\",\"tools\":[{\"id\":\"3d60f817-36a2-4526-a3b8-d279ccee21f1\",\"type\":\"PanTool\"},{\"id\":\"884dca86-57c7-4966-b14d-001314169aef\",\"type\":\"WheelZoomTool\"},{\"id\":\"50368c1f-3073-4293-b306-7114acc10194\",\"type\":\"BoxZoomTool\"},{\"id\":\"50bea004-068d-4b37-9fe7-6ed670f459ba\",\"type\":\"SaveTool\"},{\"id\":\"ed39c1df-6416-464d-839d-6bb29f95bbf1\",\"type\":\"ResetTool\"},{\"id\":\"7cf7fb84-1627-4ef3-9bd5-124bb7303128\",\"type\":\"HelpTool\"}]},\"id\":\"edab2a64-0b11-4651-83dc-71de07c2cbb8\",\"type\":\"Toolbar\"},{\"attributes\":{},\"id\":\"7cf7fb84-1627-4ef3-9bd5-124bb7303128\",\"type\":\"HelpTool\"},{\"attributes\":{},\"id\":\"182b69c4-ab8e-45da-ab88-e3efad58c33d\",\"type\":\"BasicTickFormatter\"},{\"attributes\":{\"callback\":null,\"column_names\":[\"x\",\"y\"],\"data\":{\"x\":[0.0,0.005,0.01,0.015,0.02,0.025,0.03,0.035,0.04,0.045,0.05,0.055,0.06,0.065,0.07,0.075,0.08,0.085,0.09,0.095,0.1,0.105,0.11,0.115,0.12,0.125,0.13,0.135,0.14,0.145,0.15,0.155,0.16,0.165,0.17,0.17500000000000002,0.18,0.185,0.19,0.195,0.2,0.20500000000000002,0.21,0.215,0.22,0.225,0.23,0.23500000000000001,0.24,0.245,0.25,0.255,0.26,0.265,0.27,0.275,0.28,0.28500000000000003,0.29,0.295,0.3,0.305,0.31,0.315,0.32,0.325,0.33,0.335,0.34,0.34500000000000003,0.35000000000000003,0.355,0.36,0.365,0.37,0.375,0.38,0.385,0.39,0.395,0.4,0.405,0.41000000000000003,0.41500000000000004,0.42,0.425,0.43,0.435,0.44,0.445,0.45,0.455,0.46,0.465,0.47000000000000003,0.47500000000000003,0.48,0.485,0.49,0.495,0.5,0.505,0.51,0.515,0.52,0.525,0.53,0.535,0.54,0.545,0.55,0.555,0.56,0.5650000000000001,0.5700000000000001,0.5750000000000001,0.58,0.585,0.59,0.595,0.6,0.605,0.61,0.615,0.62,0.625,0.63,0.635,0.64,0.645,0.65,0.655,0.66,0.665,0.67,0.675,0.68,0.685,0.6900000000000001,0.6950000000000001,0.7000000000000001,0.705,0.71,0.715,0.72,0.725,0.73,0.735,0.74,0.745,0.75,0.755,0.76,0.765,0.77,0.775,0.78,0.785,0.79,0.795,0.8,0.805,0.81,0.8150000000000001,0.8200000000000001,0.8250000000000001,0.8300000000000001,0.835,0.84,0.845,0.85,0.855,0.86,0.865,0.87,0.875,0.88,0.885,0.89,0.895,0.9,0.905,0.91,0.915,0.92,0.925,0.93,0.935,0.9400000000000001,0.9450000000000001,0.9500000000000001,0.9550000000000001,0.96,0.965,0.97,0.975,0.98,0.985,0.99,0.995,1.0],\"y\":[0.0,0.005,0.01,0.015,0.02,0.025,0.03,0.035,0.04,0.045,0.05,0.055,0.06,0.065,0.07,0.075,0.08,0.085,0.09,0.095,0.1,0.105,0.11,0.115,0.12,0.125,0.13,0.135,0.14,0.145,0.15,0.155,0.16,0.165,0.17,0.17500000000000002,0.18,0.185,0.19,0.195,0.2,0.20500000000000002,0.21,0.215,0.22,0.225,0.23,0.23500000000000001,0.24,0.245,0.25,0.255,0.26,0.265,0.27,0.275,0.28,0.28500000000000003,0.29,0.295,0.3,0.305,0.31,0.315,0.32,0.325,0.33,0.335,0.34,0.34500000000000003,0.35000000000000003,0.355,0.36,0.365,0.37,0.375,0.38,0.385,0.39,0.395,0.4,0.405,0.41000000000000003,0.41500000000000004,0.42,0.425,0.43,0.435,0.44,0.445,0.45,0.455,0.46,0.465,0.47000000000000003,0.47500000000000003,0.48,0.485,0.49,0.495,0.5,0.505,0.51,0.515,0.52,0.525,0.53,0.535,0.54,0.545,0.55,0.555,0.56,0.5650000000000001,0.5700000000000001,0.5750000000000001,0.58,0.585,0.59,0.595,0.6,0.605,0.61,0.615,0.62,0.625,0.63,0.635,0.64,0.645,0.65,0.655,0.66,0.665,0.67,0.675,0.68,0.685,0.6900000000000001,0.6950000000000001,0.7000000000000001,0.705,0.71,0.715,0.72,0.725,0.73,0.735,0.74,0.745,0.75,0.755,0.76,0.765,0.77,0.775,0.78,0.785,0.79,0.795,0.8,0.805,0.81,0.8150000000000001,0.8200000000000001,0.8250000000000001,0.8300000000000001,0.835,0.84,0.845,0.85,0.855,0.86,0.865,0.87,0.875,0.88,0.885,0.89,0.895,0.9,0.905,0.91,0.915,0.92,0.925,0.93,0.935,0.9400000000000001,0.9450000000000001,0.9500000000000001,0.9550000000000001,0.96,0.965,0.97,0.975,0.98,0.985,0.99,0.995,1.0]}},\"id\":\"5f49680a-955f-46f3-a66e-25a54f2f1427\",\"type\":\"ColumnDataSource\"},{\"attributes\":{},\"id\":\"3d2feabc-5920-4c09-9d42-0ed5d74820ef\",\"type\":\"LinearScale\"},{\"attributes\":{\"line_alpha\":0.1,\"line_color\":\"#1f77b4\",\"line_width\":3,\"x\":{\"field\":\"x\"},\"y\":{\"field\":\"y\"}},\"id\":\"1c0cd1cf-ae2c-47e5-a094-7094a4c370bd\",\"type\":\"Line\"},{\"attributes\":{},\"id\":\"7dce5daf-1e02-4af3-823d-f29ce360a4b7\",\"type\":\"BasicTicker\"},{\"attributes\":{},\"id\":\"3d60f817-36a2-4526-a3b8-d279ccee21f1\",\"type\":\"PanTool\"},{\"attributes\":{},\"id\":\"eb68cb9a-ed60-45dc-a9b0-ff72445f63a8\",\"type\":\"LinearScale\"},{\"attributes\":{},\"id\":\"548ea3c9-0e33-4e08-ad30-075d1f231934\",\"type\":\"BasicTicker\"},{\"attributes\":{\"data_source\":{\"id\":\"5f49680a-955f-46f3-a66e-25a54f2f1427\",\"type\":\"ColumnDataSource\"},\"glyph\":{\"id\":\"83aa8b37-df8e-4901-9435-ad3e1482b837\",\"type\":\"Line\"},\"hover_glyph\":null,\"muted_glyph\":null,\"nonselection_glyph\":{\"id\":\"1c0cd1cf-ae2c-47e5-a094-7094a4c370bd\",\"type\":\"Line\"},\"selection_glyph\":null,\"view\":{\"id\":\"3778a71f-f5e8-4ce4-a1b3-02d742a7d186\",\"type\":\"CDSView\"}},\"id\":\"578bf67e-8d1e-4f3f-b698-54f9a0e57816\",\"type\":\"GlyphRenderer\"},{\"attributes\":{\"formatter\":{\"id\":\"8b89cb90-ba82-433c-a031-93bc3dca29fc\",\"type\":\"BasicTickFormatter\"},\"plot\":{\"id\":\"8b71a3a3-f02a-47aa-997d-9e284374349a\",\"subtype\":\"Figure\",\"type\":\"Plot\"},\"ticker\":{\"id\":\"7dce5daf-1e02-4af3-823d-f29ce360a4b7\",\"type\":\"BasicTicker\"}},\"id\":\"7caffd5d-ff64-4654-b588-76d0eb9a4251\",\"type\":\"LinearAxis\"},{\"attributes\":{\"children\":[{\"id\":\"f3e9ba37-c6e5-4c71-84c7-d1f94eedfe5f\",\"type\":\"WidgetBox\"},{\"id\":\"8b71a3a3-f02a-47aa-997d-9e284374349a\",\"subtype\":\"Figure\",\"type\":\"Plot\"}]},\"id\":\"ef4151f2-ea2f-45fb-9315-413e884932b7\",\"type\":\"Column\"},{\"attributes\":{\"plot\":null,\"text\":\"\"},\"id\":\"3ce87303-5be9-487f-a157-fc7ef14c8f5b\",\"type\":\"Title\"},{\"attributes\":{\"plot\":{\"id\":\"8b71a3a3-f02a-47aa-997d-9e284374349a\",\"subtype\":\"Figure\",\"type\":\"Plot\"},\"ticker\":{\"id\":\"7dce5daf-1e02-4af3-823d-f29ce360a4b7\",\"type\":\"BasicTicker\"}},\"id\":\"18d5b14a-b5e3-4fea-ba93-80ad875e4df2\",\"type\":\"Grid\"},{\"attributes\":{\"formatter\":{\"id\":\"182b69c4-ab8e-45da-ab88-e3efad58c33d\",\"type\":\"BasicTickFormatter\"},\"plot\":{\"id\":\"8b71a3a3-f02a-47aa-997d-9e284374349a\",\"subtype\":\"Figure\",\"type\":\"Plot\"},\"ticker\":{\"id\":\"548ea3c9-0e33-4e08-ad30-075d1f231934\",\"type\":\"BasicTicker\"}},\"id\":\"9a5bd9e1-714a-49ad-98a6-9a04c8f7d0c2\",\"type\":\"LinearAxis\"},{\"attributes\":{\"below\":[{\"id\":\"7caffd5d-ff64-4654-b588-76d0eb9a4251\",\"type\":\"LinearAxis\"}],\"left\":[{\"id\":\"9a5bd9e1-714a-49ad-98a6-9a04c8f7d0c2\",\"type\":\"LinearAxis\"}],\"plot_height\":400,\"plot_width\":400,\"renderers\":[{\"id\":\"7caffd5d-ff64-4654-b588-76d0eb9a4251\",\"type\":\"LinearAxis\"},{\"id\":\"18d5b14a-b5e3-4fea-ba93-80ad875e4df2\",\"type\":\"Grid\"},{\"id\":\"9a5bd9e1-714a-49ad-98a6-9a04c8f7d0c2\",\"type\":\"LinearAxis\"},{\"id\":\"f572378a-648b-4f73-b368-4fcee78d6162\",\"type\":\"Grid\"},{\"id\":\"96a3eeae-7bb9-4d2c-ac71-8deb42f3999b\",\"type\":\"BoxAnnotation\"},{\"id\":\"578bf67e-8d1e-4f3f-b698-54f9a0e57816\",\"type\":\"GlyphRenderer\"}],\"title\":{\"id\":\"3ce87303-5be9-487f-a157-fc7ef14c8f5b\",\"type\":\"Title\"},\"toolbar\":{\"id\":\"edab2a64-0b11-4651-83dc-71de07c2cbb8\",\"type\":\"Toolbar\"},\"x_range\":{\"id\":\"f44f7c6f-b281-477b-be4c-949378fe7e79\",\"type\":\"DataRange1d\"},\"x_scale\":{\"id\":\"eb68cb9a-ed60-45dc-a9b0-ff72445f63a8\",\"type\":\"LinearScale\"},\"y_range\":{\"id\":\"56916f62-7bcb-471a-be95-9302b9ed933d\",\"type\":\"DataRange1d\"},\"y_scale\":{\"id\":\"3d2feabc-5920-4c09-9d42-0ed5d74820ef\",\"type\":\"LinearScale\"}},\"id\":\"8b71a3a3-f02a-47aa-997d-9e284374349a\",\"subtype\":\"Figure\",\"type\":\"Plot\"},{\"attributes\":{\"children\":[{\"id\":\"f39f4ceb-9191-4eb5-b9f3-16348749e99c\",\"type\":\"Slider\"}]},\"id\":\"f3e9ba37-c6e5-4c71-84c7-d1f94eedfe5f\",\"type\":\"WidgetBox\"},{\"attributes\":{},\"id\":\"8b89cb90-ba82-433c-a031-93bc3dca29fc\",\"type\":\"BasicTickFormatter\"},{\"attributes\":{\"dimension\":1,\"plot\":{\"id\":\"8b71a3a3-f02a-47aa-997d-9e284374349a\",\"subtype\":\"Figure\",\"type\":\"Plot\"},\"ticker\":{\"id\":\"548ea3c9-0e33-4e08-ad30-075d1f231934\",\"type\":\"BasicTicker\"}},\"id\":\"f572378a-648b-4f73-b368-4fcee78d6162\",\"type\":\"Grid\"},{\"attributes\":{\"args\":{\"slider\":{\"id\":\"f39f4ceb-9191-4eb5-b9f3-16348749e99c\",\"type\":\"Slider\"},\"source\":{\"id\":\"5f49680a-955f-46f3-a66e-25a54f2f1427\",\"type\":\"ColumnDataSource\"}},\"code\":\"\\n    var data = source.get('data');\\n    var f = slider.value;\\n    x = data['x']\\n    y = data['y']\\n    for (i = 0; i < x.length; i++) {\\n        y[i] = Math.pow(x[i], f)\\n    }\\n    source.change.emit();\\n\"},\"id\":\"1d376fbe-2db5-4d81-80b1-a4f450832236\",\"type\":\"CustomJS\"},{\"attributes\":{\"overlay\":{\"id\":\"96a3eeae-7bb9-4d2c-ac71-8deb42f3999b\",\"type\":\"BoxAnnotation\"}},\"id\":\"50368c1f-3073-4293-b306-7114acc10194\",\"type\":\"BoxZoomTool\"},{\"attributes\":{\"callback\":null,\"end\":6,\"js_property_callbacks\":{\"change:value\":[{\"id\":\"1d376fbe-2db5-4d81-80b1-a4f450832236\",\"type\":\"CustomJS\"}]},\"start\":0.1,\"step\":0.1,\"title\":\"power\",\"value\":1},\"id\":\"f39f4ceb-9191-4eb5-b9f3-16348749e99c\",\"type\":\"Slider\"},{\"attributes\":{\"line_alpha\":0.6,\"line_color\":\"#1f77b4\",\"line_width\":3,\"x\":{\"field\":\"x\"},\"y\":{\"field\":\"y\"}},\"id\":\"83aa8b37-df8e-4901-9435-ad3e1482b837\",\"type\":\"Line\"},{\"attributes\":{},\"id\":\"884dca86-57c7-4966-b14d-001314169aef\",\"type\":\"WheelZoomTool\"},{\"attributes\":{\"callback\":null},\"id\":\"f44f7c6f-b281-477b-be4c-949378fe7e79\",\"type\":\"DataRange1d\"},{\"attributes\":{},\"id\":\"50bea004-068d-4b37-9fe7-6ed670f459ba\",\"type\":\"SaveTool\"},{\"attributes\":{\"callback\":null},\"id\":\"56916f62-7bcb-471a-be95-9302b9ed933d\",\"type\":\"DataRange1d\"}],\"root_ids\":[\"ef4151f2-ea2f-45fb-9315-413e884932b7\"]},\"title\":\"Bokeh Application\",\"version\":\"0.12.11\"}};\n",
       "    var render_items = [{\"docid\":\"46a6216d-9c2b-4020-b569-5a3b2463e2e3\",\"elementid\":\"e37039a6-af2f-46e5-8e68-20df6c388a87\",\"modelid\":\"ef4151f2-ea2f-45fb-9315-413e884932b7\"}];\n",
       "    root.Bokeh.embed.embed_items(docs_json, render_items);\n",
       "  }\n",
       "  if (root.Bokeh !== undefined) {\n",
       "    embed_document(root);\n",
       "  } else {\n",
       "    var attempts = 0;\n",
       "    var timer = setInterval(function(root) {\n",
       "      if (root.Bokeh !== undefined) {\n",
       "        embed_document(root);\n",
       "        clearInterval(timer);\n",
       "      }\n",
       "      attempts++;\n",
       "      if (attempts > 100) {\n",
       "        console.log(\"Bokeh: ERROR: Unable to embed document because BokehJS library is missing\")\n",
       "        clearInterval(timer);\n",
       "      }\n",
       "    }, 10, root)\n",
       "  }\n",
       "})(window);"
      ],
      "application/vnd.bokehjs_exec.v0+json": ""
     },
     "metadata": {
      "application/vnd.bokehjs_exec.v0+json": {
       "id": "ef4151f2-ea2f-45fb-9315-413e884932b7"
      }
     },
     "output_type": "display_data"
    }
   ],
   "source": [
    "from bokeh.layouts import column\n",
    "from bokeh.models import CustomJS, ColumnDataSource, Slider\n",
    "\n",
    "x = [x*0.005 for x in range(0, 201)]\n",
    "\n",
    "source = ColumnDataSource(data=dict(x=x, y=x))\n",
    "\n",
    "plot = figure(plot_width=400, plot_height=400)\n",
    "plot.line('x', 'y', source=source, line_width=3, line_alpha=0.6)\n",
    "\n",
    "slider = Slider(start=0.1, end=6, value=1, step=.1, title=\"power\")\n",
    "\n",
    "update_curve = CustomJS(args=dict(source=source, slider=slider), code=\"\"\"\n",
    "    var data = source.get('data');\n",
    "    var f = slider.value;\n",
    "    x = data['x']\n",
    "    y = data['y']\n",
    "    for (i = 0; i < x.length; i++) {\n",
    "        y[i] = Math.pow(x[i], f)\n",
    "    }\n",
    "    source.change.emit();\n",
    "\"\"\")\n",
    "slider.js_on_change('value', update_curve)\n",
    "\n",
    "\n",
    "show(column(slider, plot))"
   ]
  },
  {
   "cell_type": "markdown",
   "metadata": {},
   "source": [
    "## Calbacks for selections\n",
    "\n",
    "It's also possible to make JavaScript actions that execute whenever a user selection (e.g., box, point, lasso) changes. This is done by attaching the same kind of CustomJS object to whatever data source the selection is made on.\n",
    "\n",
    "The example below is a bit more sophisticated, and demonstrates updating one glyph's data source in response to another glyph's selection: "
   ]
  },
  {
   "cell_type": "code",
   "execution_count": 17,
   "metadata": {},
   "outputs": [
    {
     "data": {
      "text/html": [
       "\n",
       "<div class=\"bk-root\">\n",
       "    <div class=\"bk-plotdiv\" id=\"3353c44a-cdbf-460f-a4d9-14511b09e270\"></div>\n",
       "</div>"
      ]
     },
     "metadata": {},
     "output_type": "display_data"
    },
    {
     "data": {
      "application/javascript": [
       "(function(root) {\n",
       "  function embed_document(root) {\n",
       "    var docs_json = {\"dc60f453-0417-44de-b584-ed59c8f62d78\":{\"roots\":{\"references\":[{\"attributes\":{\"source\":{\"id\":\"76c98119-04fd-4714-84f3-e4e599dfd807\",\"type\":\"ColumnDataSource\"}},\"id\":\"39533234-7ef8-4f74-9c88-5d86930bcdba\",\"type\":\"CDSView\"},{\"attributes\":{},\"id\":\"738a8897-23bc-4ea7-80ee-e64a8955ddba\",\"type\":\"BasicTicker\"},{\"attributes\":{},\"id\":\"2214e7af-126f-42ae-84b4-96bd2c250315\",\"type\":\"BasicTickFormatter\"},{\"attributes\":{\"callback\":null,\"overlay\":{\"id\":\"45a42555-231b-4609-84c9-99878c97be96\",\"type\":\"PolyAnnotation\"}},\"id\":\"d53ba4b2-f3d0-412f-903a-ae6c1f231754\",\"type\":\"LassoSelectTool\"},{\"attributes\":{\"fill_alpha\":{\"value\":0.5},\"fill_color\":{\"value\":\"lightgrey\"},\"level\":\"overlay\",\"line_alpha\":{\"value\":1.0},\"line_color\":{\"value\":\"black\"},\"line_dash\":[4,4],\"line_width\":{\"value\":2},\"plot\":null,\"xs_units\":\"screen\",\"ys_units\":\"screen\"},\"id\":\"45a42555-231b-4609-84c9-99878c97be96\",\"type\":\"PolyAnnotation\"},{\"attributes\":{\"plot\":{\"id\":\"9dffa713-bab0-4b29-896d-453a0bcc97a6\",\"subtype\":\"Figure\",\"type\":\"Plot\"},\"ticker\":{\"id\":\"15d2ec11-6686-46ba-90ba-2f148d78e97d\",\"type\":\"BasicTicker\"}},\"id\":\"47e03b53-443c-42ab-9307-408f5a74ba7a\",\"type\":\"Grid\"},{\"attributes\":{\"plot\":null,\"text\":\"Select Here\"},\"id\":\"72b2f57e-8419-4ae0-80bd-0dcff4e56292\",\"type\":\"Title\"},{\"attributes\":{},\"id\":\"94f31b25-f790-419b-a435-0cf7ee251137\",\"type\":\"LinearScale\"},{\"attributes\":{},\"id\":\"703e2831-84a1-4bbd-9191-59bcdd58f80d\",\"type\":\"LinearScale\"},{\"attributes\":{\"formatter\":{\"id\":\"2364d03e-a5f5-4ae3-9e1e-a650ce077774\",\"type\":\"BasicTickFormatter\"},\"plot\":{\"id\":\"9dffa713-bab0-4b29-896d-453a0bcc97a6\",\"subtype\":\"Figure\",\"type\":\"Plot\"},\"ticker\":{\"id\":\"15d2ec11-6686-46ba-90ba-2f148d78e97d\",\"type\":\"BasicTicker\"}},\"id\":\"254ca4bb-91cb-428a-8d60-347e35541a05\",\"type\":\"LinearAxis\"},{\"attributes\":{},\"id\":\"2364d03e-a5f5-4ae3-9e1e-a650ce077774\",\"type\":\"BasicTickFormatter\"},{\"attributes\":{\"callback\":null,\"column_names\":[\"xm\",\"ym\"],\"data\":{\"xm\":[0,1],\"ym\":[0.5,0.5]}},\"id\":\"76c98119-04fd-4714-84f3-e4e599dfd807\",\"type\":\"ColumnDataSource\"},{\"attributes\":{},\"id\":\"15d2ec11-6686-46ba-90ba-2f148d78e97d\",\"type\":\"BasicTicker\"},{\"attributes\":{\"callback\":null},\"id\":\"7e74804e-6f04-4550-ad02-fd173d18c4b4\",\"type\":\"DataRange1d\"},{\"attributes\":{\"data_source\":{\"id\":\"76c98119-04fd-4714-84f3-e4e599dfd807\",\"type\":\"ColumnDataSource\"},\"glyph\":{\"id\":\"989a188b-475a-4668-ac7f-b0ba3e0db5d7\",\"type\":\"Line\"},\"hover_glyph\":null,\"muted_glyph\":null,\"nonselection_glyph\":{\"id\":\"bcf46612-db9f-47c3-867d-f29076ea4a97\",\"type\":\"Line\"},\"selection_glyph\":null,\"view\":{\"id\":\"39533234-7ef8-4f74-9c88-5d86930bcdba\",\"type\":\"CDSView\"}},\"id\":\"e9dca192-65a6-4508-a9bc-af4c2d46c9dc\",\"type\":\"GlyphRenderer\"},{\"attributes\":{\"callback\":null},\"id\":\"d3ceff80-66fb-4bef-a446-afb9efbaff3b\",\"type\":\"DataRange1d\"},{\"attributes\":{\"active_drag\":\"auto\",\"active_inspect\":\"auto\",\"active_scroll\":\"auto\",\"active_tap\":\"auto\",\"tools\":[{\"id\":\"d53ba4b2-f3d0-412f-903a-ae6c1f231754\",\"type\":\"LassoSelectTool\"}]},\"id\":\"8571ab47-66ac-47e4-870e-9a6aec93b660\",\"type\":\"Toolbar\"},{\"attributes\":{\"data_source\":{\"id\":\"0fe3cacd-995b-447d-8eb8-390f92c6b777\",\"type\":\"ColumnDataSource\"},\"glyph\":{\"id\":\"0ede4666-772f-4f40-a3b1-b7e011a9cd1b\",\"type\":\"Circle\"},\"hover_glyph\":null,\"muted_glyph\":null,\"nonselection_glyph\":{\"id\":\"4a7787dc-4b46-4921-a282-be704eddfcfb\",\"type\":\"Circle\"},\"selection_glyph\":null,\"view\":{\"id\":\"6872308b-6f07-4ed3-aaf2-511def946a26\",\"type\":\"CDSView\"}},\"id\":\"d84455e3-827c-431d-b7db-a229b974dfc1\",\"type\":\"GlyphRenderer\"},{\"attributes\":{\"dimension\":1,\"plot\":{\"id\":\"9dffa713-bab0-4b29-896d-453a0bcc97a6\",\"subtype\":\"Figure\",\"type\":\"Plot\"},\"ticker\":{\"id\":\"738a8897-23bc-4ea7-80ee-e64a8955ddba\",\"type\":\"BasicTicker\"}},\"id\":\"3bade3c5-4ab5-41b1-b2d0-4c68ab215dd8\",\"type\":\"Grid\"},{\"attributes\":{\"callback\":{\"id\":\"c4a34262-f0f9-4a7b-8d78-15a4b6d4a3fd\",\"type\":\"CustomJS\"},\"column_names\":[\"x\",\"y\",\"color\"],\"data\":{\"color\":[\"navy\",\"navy\",\"navy\",\"navy\",\"navy\",\"navy\",\"navy\",\"navy\",\"navy\",\"navy\",\"navy\",\"navy\",\"navy\",\"navy\",\"navy\",\"navy\",\"navy\",\"navy\",\"navy\",\"navy\",\"navy\",\"navy\",\"navy\",\"navy\",\"navy\",\"navy\",\"navy\",\"navy\",\"navy\",\"navy\",\"navy\",\"navy\",\"navy\",\"navy\",\"navy\",\"navy\",\"navy\",\"navy\",\"navy\",\"navy\",\"navy\",\"navy\",\"navy\",\"navy\",\"navy\",\"navy\",\"navy\",\"navy\",\"navy\",\"navy\",\"navy\",\"navy\",\"navy\",\"navy\",\"navy\",\"navy\",\"navy\",\"navy\",\"navy\",\"navy\",\"navy\",\"navy\",\"navy\",\"navy\",\"navy\",\"navy\",\"navy\",\"navy\",\"navy\",\"navy\",\"navy\",\"navy\",\"navy\",\"navy\",\"navy\",\"navy\",\"navy\",\"navy\",\"navy\",\"navy\",\"navy\",\"navy\",\"navy\",\"navy\",\"navy\",\"navy\",\"navy\",\"navy\",\"navy\",\"navy\",\"navy\",\"navy\",\"navy\",\"navy\",\"navy\",\"navy\",\"navy\",\"navy\",\"navy\",\"navy\",\"navy\",\"navy\",\"navy\",\"navy\",\"navy\",\"navy\",\"navy\",\"navy\",\"navy\",\"navy\",\"navy\",\"navy\",\"navy\",\"navy\",\"navy\",\"navy\",\"navy\",\"navy\",\"navy\",\"navy\",\"navy\",\"navy\",\"navy\",\"navy\",\"navy\",\"navy\",\"navy\",\"navy\",\"navy\",\"navy\",\"navy\",\"navy\",\"navy\",\"navy\",\"navy\",\"navy\",\"navy\",\"navy\",\"navy\",\"navy\",\"navy\",\"navy\",\"navy\",\"navy\",\"navy\",\"navy\",\"navy\",\"navy\",\"navy\",\"navy\",\"navy\",\"navy\",\"navy\",\"navy\",\"navy\",\"navy\",\"navy\",\"navy\",\"navy\",\"navy\",\"navy\",\"navy\",\"navy\",\"navy\",\"navy\",\"navy\",\"navy\",\"navy\",\"navy\",\"navy\",\"navy\",\"navy\",\"navy\",\"navy\",\"navy\",\"navy\",\"navy\",\"navy\",\"navy\",\"navy\",\"navy\",\"navy\",\"navy\",\"navy\",\"navy\",\"navy\",\"navy\",\"navy\",\"navy\",\"navy\",\"navy\",\"navy\",\"navy\",\"navy\",\"navy\",\"navy\",\"navy\",\"navy\",\"navy\",\"navy\",\"navy\",\"navy\",\"navy\",\"navy\",\"navy\",\"navy\",\"navy\",\"navy\",\"navy\",\"navy\",\"navy\",\"navy\",\"navy\",\"navy\",\"navy\",\"navy\",\"navy\",\"navy\",\"navy\",\"navy\",\"navy\",\"navy\",\"navy\",\"navy\",\"navy\",\"navy\",\"navy\",\"navy\",\"navy\",\"navy\",\"navy\",\"navy\",\"navy\",\"navy\",\"navy\",\"navy\",\"navy\",\"navy\",\"navy\",\"navy\",\"navy\",\"navy\",\"navy\",\"navy\",\"navy\",\"navy\",\"navy\",\"navy\",\"navy\",\"navy\",\"navy\",\"navy\",\"navy\",\"navy\",\"navy\",\"navy\",\"navy\",\"navy\",\"navy\",\"navy\",\"navy\",\"navy\",\"navy\",\"navy\",\"navy\",\"navy\",\"navy\",\"navy\",\"navy\",\"navy\",\"navy\",\"navy\",\"navy\",\"navy\",\"navy\",\"navy\",\"navy\",\"navy\",\"navy\",\"navy\",\"navy\",\"navy\",\"navy\",\"navy\",\"navy\",\"navy\",\"navy\",\"navy\",\"navy\",\"navy\",\"navy\",\"navy\",\"navy\",\"navy\",\"navy\",\"navy\",\"navy\",\"navy\",\"navy\",\"navy\",\"navy\",\"navy\",\"navy\",\"navy\",\"navy\",\"navy\",\"navy\",\"navy\",\"navy\",\"navy\",\"navy\",\"navy\",\"navy\",\"navy\",\"navy\",\"navy\",\"navy\",\"navy\",\"navy\",\"navy\",\"navy\",\"navy\",\"navy\",\"navy\",\"navy\",\"navy\",\"navy\",\"navy\",\"navy\",\"navy\",\"navy\",\"navy\",\"navy\",\"navy\",\"navy\",\"navy\",\"navy\",\"navy\",\"navy\",\"navy\",\"navy\",\"navy\",\"navy\",\"navy\",\"navy\",\"navy\",\"navy\",\"navy\",\"navy\",\"navy\",\"navy\",\"navy\",\"navy\",\"navy\",\"navy\",\"navy\",\"navy\",\"navy\",\"navy\",\"navy\",\"navy\",\"navy\",\"navy\",\"navy\",\"navy\",\"navy\",\"navy\",\"navy\",\"navy\",\"navy\",\"navy\",\"navy\",\"navy\",\"navy\",\"navy\",\"navy\",\"navy\",\"navy\",\"navy\",\"navy\",\"navy\",\"navy\",\"navy\",\"navy\",\"navy\",\"navy\",\"navy\",\"navy\",\"navy\",\"navy\",\"navy\",\"navy\",\"navy\",\"navy\",\"navy\",\"navy\",\"navy\",\"navy\",\"navy\",\"navy\",\"navy\",\"navy\",\"navy\",\"navy\",\"navy\",\"navy\",\"navy\",\"navy\",\"navy\",\"navy\",\"navy\",\"navy\",\"navy\",\"navy\",\"navy\",\"navy\",\"navy\",\"navy\",\"navy\",\"navy\",\"navy\",\"navy\",\"navy\",\"navy\",\"navy\",\"navy\",\"navy\",\"navy\",\"navy\",\"navy\",\"navy\",\"navy\",\"navy\",\"navy\",\"navy\",\"navy\",\"navy\",\"navy\",\"navy\",\"navy\",\"navy\",\"navy\",\"navy\",\"navy\",\"navy\",\"navy\",\"navy\",\"navy\",\"navy\",\"navy\",\"navy\",\"navy\",\"navy\",\"navy\",\"navy\",\"navy\",\"navy\",\"navy\",\"navy\",\"navy\",\"navy\",\"navy\",\"navy\",\"navy\",\"navy\",\"navy\",\"navy\",\"navy\",\"navy\",\"navy\",\"navy\",\"navy\",\"navy\",\"navy\",\"navy\",\"navy\",\"navy\",\"navy\",\"navy\",\"navy\",\"navy\",\"navy\",\"navy\",\"navy\",\"navy\",\"navy\",\"navy\",\"navy\",\"navy\",\"navy\",\"navy\",\"navy\",\"navy\",\"navy\",\"navy\",\"navy\",\"navy\",\"navy\",\"navy\",\"navy\"],\"x\":[0.7469893187861775,0.4631685961019485,0.18412749228414027,0.6129699930779104,0.12094603499565382,0.0028248020991195055,0.15305212055746498,0.383592863772484,0.17699158249574676,0.6890319297684844,0.417362344604549,0.28061318513378664,0.9491416333008159,0.5585032930588334,0.5064499238029033,0.13907706874350378,0.2644176198508721,0.7765599674463665,0.5977277930358156,0.40302571598050885,0.48793728205033726,0.7207829403876329,0.41168765600275714,0.8389924326282265,0.7875107665348795,0.40816430723573116,0.8524692553004913,0.8738374269672539,0.5665445902871646,0.7202476322547536,0.3189319045233595,0.05578634183907516,0.45228011561556325,0.3663605055658872,0.15148537563752407,0.1622170889362483,0.6782769481940082,0.4755403707171816,0.9037288765636222,0.6447775163526533,0.14450446398183203,0.5088231843986892,0.019113250903368795,0.06882512665661411,0.04014040996156887,0.09918667163700301,0.2669479779034687,0.8749878300349674,0.7901089988163319,0.16682417357163137,0.610532603568458,0.39586159156884004,0.09099773360652108,0.5698674801595693,0.572030585994953,0.5351043986543679,0.5424286868876426,0.21318974044628414,0.7829673460079377,0.8067435411997662,0.7995672143060559,0.11302686393672035,0.6183233764925878,0.8444322679752841,0.39140261589260184,0.7673665026836936,0.23107636299038758,0.10576418162778078,0.46558730834721374,0.37181710670045653,0.11273881177629363,0.7097531444693983,0.8301412869665276,0.3063650903235271,0.4937916860779914,0.43197105569232097,0.21276133708536704,0.15577916880616893,0.47601780873698185,0.4724753038896652,0.8711627281989338,0.35219834611768774,0.5090941285514039,0.6580277770078845,0.6987139385353911,0.6455082892323815,0.5150836627016282,0.22321305951099457,0.3855874738405698,0.3723752715246239,0.7085398435213645,0.8473501694502381,0.6335427112116975,0.09003006556588478,0.36440216461450536,0.9752689457353061,0.048017536167078934,0.30457787423067606,0.8991209709302175,0.40053721407535203,0.1704182978033396,0.06586180235803041,0.6516189177269304,0.39221154108952794,0.8997359765170879,0.15528733534684847,0.5213821655306438,0.3450908834156293,0.9887982654253796,0.3392820751000628,0.580224521508791,0.4465753792002778,0.36851317431246366,0.4385281092296225,0.04789405640140321,0.385031773605246,0.5200328396344447,0.6824811225964567,0.5847696997176334,0.38891172544775543,0.37223857512199354,0.9565033840894203,0.21041328283560778,0.9793557775547512,0.14847689012598975,0.8367768908677451,0.4550878278500059,0.16411995683580893,0.36344171774309264,0.0027010960987109423,0.5477909419746009,0.1882344706536192,0.6988600448623432,0.7344456774089941,0.2605376593447938,0.05624672079229531,0.5963838197864385,0.5076845212549166,0.49670231078544047,0.6413658081690542,0.9379359408230228,0.09073631595782372,0.24199427522800787,0.9582409577240392,0.17035531935291282,0.8561265071884945,0.18569008037389223,0.6164358208655734,0.08362620030179624,0.3920805842199435,0.46878870918512816,0.13596660682365658,0.03305662944015508,0.24675638989488746,0.6218122155371326,0.19444990488498093,0.8583654371208154,0.8215822666949232,0.8305274075361679,0.5084938204663373,0.14670912122126556,0.6584656596853037,0.6726131242313609,0.5167297697310855,0.13389195623334083,0.610016796833554,0.4266222041744204,0.43254611738922577,0.7658850044396578,0.6587726617240866,0.38514884004727,0.14625219737057837,0.4828935654103157,0.4283998449354811,0.25018420113143547,0.5596242440529358,0.7464213834953127,0.45217701710188163,0.12892578899200635,0.27367486178643785,0.8708467520072766,0.12078158564231922,0.095442990065709,0.9650745718640057,0.1370624992587237,0.5842336931506884,0.7814641548640184,0.1481328833433324,0.062399849872085356,0.9853710095077092,0.9665796982109206,0.015262419335292043,0.9000593214702319,0.38317318380696774,0.9284831007395905,0.10229013905485251,0.11647446278203188,0.9080023700018356,0.6529073568653678,0.7733558634219672,0.9643575722385997,0.3489660156766611,0.15340078846013283,0.8824990056491084,0.9306183215723416,0.6502080744672216,0.9395753344312322,0.21637229349720444,0.8548392594995415,0.7705519378825992,0.46185576531389305,0.4885372438816875,0.5198856581628378,0.22713077047922248,0.45047466023873584,0.825810216554956,0.9843857989302358,0.9876304118497846,0.11543825816315467,0.11034592109822772,0.2945692239158386,0.6844866866960789,0.23363946146105996,0.793066894922633,0.6747074181823796,0.8290469724539642,0.5867050770563382,0.8945610259594138,0.6260007151113286,0.44710909914611774,0.2363396107924507,0.2753639291061428,0.010920481368817292,0.9016945794161205,0.3777755974590712,0.5588536490436663,0.8369541537093769,0.3906243733561954,0.6042861619240675,0.8680982832137272,0.47589765369736836,0.9426781865935417,0.026868349998077634,0.7811395325932043,0.28965547232793765,0.43096679890986744,0.8160870392264407,0.6170812102153496,0.8083357265590553,0.5451448753444337,0.3603017096348262,0.5093205956039766,0.03659398359309496,0.018475941761815995,0.6273745721406851,0.14438760656111782,0.22934071125699496,0.5794699079004805,0.742693713031776,0.7574012172561716,0.12979096121564593,0.35968089559535,0.18482453941319898,0.4730444440320565,0.14546368343530913,0.33400789739396175,0.39717118654378325,0.7014720415561826,0.6485113456798763,0.6270719010653212,0.11054634461954682,0.8309357946106732,0.3854001635072275,0.29470764300049157,0.7280786566935268,0.5605559344770561,0.34242649616251153,0.3777528360682044,0.3504775581506403,0.5269099881756272,0.9752342770171919,0.27193293864055823,0.10193058193267523,0.19382111888489795,0.3650522176615264,0.6242799046861455,0.9633471159864034,0.6219297774003261,0.8040359396216882,0.36794392174013446,0.7446011741217066,0.12107118998661881,0.19631021433926898,0.1737676720217075,0.9801988957197229,0.5978840412698007,0.613546479273605,0.42696209759333015,0.05150896704872354,0.7208503725774048,0.627678056475951,0.8837616045131574,0.5141944680744905,0.15074030740414945,0.152903550695474,0.43234165712105543,0.889667847660336,0.10011740556542337,0.0990719717416132,0.31247378625637445,0.06678056144932609,0.4941085082797738,0.6455607225476223,0.3319308808136039,0.20819231994129916,0.18797554555913587,0.9580131740714355,0.7080507701854939,0.07929958400476023,0.062116577877764256,0.6998586591706426,0.39578925439272417,0.301873746547634,0.607708052880376,0.05841766953682104,0.532010907556353,0.5653853766093846,0.7656039663381149,0.31813845306468835,0.6678792475912343,0.8474022964904653,0.9274128030343785,0.19818227101455044,0.32985809541377076,0.8135046235236723,0.21201448661430344,0.6791050946195749,0.9242167500976844,0.9458892236554397,0.06763070285739259,0.6956815242071022,0.5748605138852275,0.7664371309816274,0.42073523740463414,0.49794221430574936,0.13282242897732266,0.8840546561725032,0.1276045400052832,0.37344315487154434,0.8240215033326566,0.9253404388886328,0.6302215093158844,0.7419898596188473,0.062487331671157165,0.6862203034323556,0.1716890020565578,0.34802703009584723,0.9928150245852516,0.027462460630136243,0.21061105785654988,0.1124898373880151,0.817220211028031,0.308020881551466,0.8679075008591584,0.9718537290495953,0.17258266243213194,0.9441236845779382,0.7448543566421533,0.1793266383740244,0.9309848867889368,0.44047068308705006,0.3148929054840457,0.7372711668540166,0.025008468091142544,0.013928622975793448,0.8052330269910757,0.04040009066689931,0.18755813104209584,0.16477358351517168,0.9234460438692842,0.011955536707659031,0.173905419758294,0.7701832521049568,0.0019333073256828648,0.5481964209830262,0.7147339493337983,0.09550162545350183,0.17408112720261326,0.37764957463449755,0.6439096511064609,0.21452374739688296,0.014004991120299626,0.9146426132441468,0.31367038141866876,0.9776012957381814,0.7145181334154463,0.3331092030308913,0.59681442667059,0.4441073563640924,0.8957577885395079,0.5418811612480916,0.8926597419234414,0.3506069710500317,0.18212434096426555,0.5960759639702627,0.24113706695856474,0.7706480276759956,0.6033206040375064,0.01255585958916261,0.9405903429795055,0.8198304848125015,0.6492057640599808,0.6797626240882035,0.0880013606192247,0.643804257387506,0.4496979824055034,0.592757630255135,0.3311566702771179,0.019742855588091635,0.24348087525809803,0.9671036020976406,0.21049063672780444,0.3858938074013668,0.627324811108465,0.8980671582589206,0.4271030698291438,0.7636387834958852,0.0910244329780403,0.330145504505742,0.0584949735614132,0.4824884092745597,0.3420293458533208,0.6206575105237968,0.49602040447293194,0.18252416830883766,0.7087525685116881,0.712608805997091,0.6082392949149005,0.5465599439215064,0.9460901221937038,0.09893312763677797,0.9403703499348351,0.6630083338154861,0.22531378207691444,0.12294251778061405,0.7311065034334979,0.2512133239334464,0.22795547124797422,0.614310458280493,0.8612829777528933,0.014544043828263131,0.13626213538940102,0.43683597903881366,0.33865964602590803,0.3859882615283383,0.5872722058257214,0.7594870439747577,0.6907696174590894,0.7992530542588432,0.28684187906678826,0.13242145753466183,0.6985482346707617,0.3032336539650716,0.908862487503166,0.1021984763483812,0.0759071389230217,0.667814781223053,0.9940199409369311,0.04324983327169374,0.42957016601972264,0.505146213038714,0.015677534904080748,0.8271074720487505,0.7551875619074204,0.22700822674063825,0.026255574816919425,0.6931898589336808,0.6819400674636998,0.24313224699902292,0.7331225666173206,0.38112575618142774,0.07997313795996142,0.9005825333489389,0.6203781907227596,0.6471568692143765,0.6706515414543905,0.6479130423437595,0.5967962113370405,0.1140205877906667,0.7407990713966833,0.44348881447121324,0.30741315313403106,0.226994301410255,0.6268655691515684,0.9741282444836238,0.608434627406645,0.5233392501036415,0.03215145896324123,0.7109325897798715,0.2680323155385179],\"y\":[0.6754739281208582,0.24686055915731997,0.3214314412811863,0.39835826466388713,0.3733994961153795,0.8392661937180366,0.8171722868837804,0.4520361552386668,0.777355409788194,0.8145421457636713,0.9074408211095901,0.7271302545383187,0.0008047202168600665,0.29833700771763627,0.9255964295569994,0.1047882400178417,0.5489880963175044,0.12221327705020124,0.13532711432588895,0.19726302817540364,0.20209488740474446,0.5901939590588926,0.2798340849057329,0.8623896351881593,0.987193572259984,0.8052631605948907,0.8138521191588765,0.7827515534785444,0.06370428436119424,0.687110008951763,0.6652031307599248,0.007272026572880952,0.10163759977708409,0.17718308997047005,0.2928558647294712,0.09026240440043864,0.7237432282498693,0.7286306786465447,0.0569260516668344,0.18914072081505562,0.2613753444385343,0.23931659808403516,0.8422243974981477,0.8835005413610441,0.7426963952883622,0.41247399950151376,0.7280294057352311,0.5202711824357709,0.021006179772540823,0.2900210164985124,0.13221484642192793,0.12655620462905903,0.9758525212229081,0.9927329061093279,0.08294508651793586,0.09293597371804407,0.4243357692923778,0.5590807554397473,0.7066399296079506,0.11268852777733929,0.4430555327427015,0.2445081225316753,0.2610578763827618,0.778433033785106,0.07580622250462676,0.6189206512311133,0.774387006143642,0.030718969045223754,0.44001768023048016,0.8408304605900042,0.32598755299915894,0.6086446181974645,0.17879311011234067,0.9662594836214483,0.2913109718128344,0.14295607612051442,0.7854268328436865,0.6921561483184846,0.5769872521792456,0.6835186167902465,0.17949063249157926,0.043863379294317606,0.8430642798815264,0.7577072353874422,0.9460418817198145,0.21497925025332332,0.4050291865269666,0.6802341708237591,0.18983998924846202,0.14663649522093758,0.9132728589131558,0.6671507425854131,0.6101188723717258,0.17956634364665713,0.8896516806075879,0.5838426086942579,0.6644530108400345,0.8951765515629041,0.3400878684977844,0.5509620937825142,0.47436640478395675,0.8554892361122362,0.9933492791289653,0.7115649127727007,0.049257497061784394,0.04405836984328959,0.33887666279023054,0.14247120579503125,0.7165974257424244,0.47153294643132115,0.050858757291828205,0.939613550096889,0.43585607007097305,0.3353679887407426,0.5437169266161115,0.5269392844554933,0.33917379436560646,0.26164091893386054,0.5494021488421863,0.7780577274567254,0.15097309953829086,0.31911805284597217,0.22270611268789198,0.5057705335600239,0.42575385977440305,0.6411591570059393,0.38363209057176584,0.20227454203236095,0.17664609449779778,0.5374045060122702,0.279619723708167,0.8319228846975784,0.6080569595047554,0.6991108547283046,0.952335033109187,0.2623664924135498,0.32966195617665106,0.8020144713109617,0.7715550750033899,0.922032245739947,0.21293915573091926,0.5373518236197915,0.8210288607538951,0.8185371217478061,0.0009295843042227414,0.7719370693639555,0.10720511302827906,0.32550363706979046,0.41087547446799677,0.8388946488238936,0.3443565370337489,0.46308929764198925,0.5819446169567739,0.15611370714432105,0.0139076633722659,0.262044346397464,0.4411076215216775,0.7929208828171127,0.7767118592914132,0.4507174341395793,0.33135085168236367,0.26397459014862845,0.17813330850424802,0.009188214774460524,0.5166109489136522,0.38903454792305436,0.0553839421433856,0.04338468637650095,0.9831017341687918,0.4604780670736771,0.20875799306879395,0.5389440484677576,0.18901848701944812,0.35488360233415617,0.34155324798785736,0.06972857760528095,0.6736704653441054,0.38864206679888913,0.8326004864191394,0.8572407511361297,0.7672841955862852,0.943839877265188,0.6898470177896997,0.0791060217147963,0.019316236129941378,0.33742001147678435,0.5971791182478547,0.504277941558605,0.7338984867358905,0.9838811862288338,0.8226849579972028,0.7520628339936273,0.14615137293824287,0.3375787772950942,0.21711178397873565,0.2764381145745656,0.6855028113471545,0.8210082916376599,0.2736946059691534,0.30901496622502933,0.8931996226269144,0.5273297472086834,0.22248291937946596,0.12422556290453834,0.49014851773841117,0.5898647748829021,0.5428628850084597,0.27343884952524644,0.5309050475807265,0.02852373772073835,0.1591941377332342,0.03421058456363857,0.8984289044636498,0.4919958657398529,0.4539282907163338,0.3973283467576707,0.7595637860602162,0.11323047142353926,0.401316082027532,0.6156467017883507,0.3949944662805609,0.24446383701655217,0.8185955514743032,0.91694153142701,0.45607502479290074,0.20411753879928551,0.7834551887535802,0.5443537071279023,0.7171721994762583,0.512312871054099,0.17842440903219559,0.625390385992109,0.5717269167023624,0.10316680600001926,0.9963591460921247,0.47243668779017767,0.5514811839523454,0.3156829366464382,0.7835762206756167,0.2902125325257596,0.7212405946346763,0.07780888424307686,0.8127541548642022,0.8649734415557266,0.2032090878239674,0.8925717227245553,0.7617668775493469,0.8927151208070144,0.05517700801959491,0.5305319336310059,0.9474397765742135,0.9179199499860363,0.08006372613813473,0.696609649985992,0.11710825515736611,0.957351845782635,0.403869142681184,0.011647988377816332,0.5937641540039962,0.15566663340284925,0.8321091965854965,0.22822129969227467,0.6834486549594785,0.3124415682251258,0.924894089335175,0.41667902008935076,0.823592653222494,0.7925800653959623,0.09029928991082115,0.7607855253096986,0.9547609171230756,0.47871083421060145,0.850612668635998,0.8805281128752971,0.24164811916394424,0.3025494872036594,0.3280335888264998,0.02928651603971555,0.5666898723950595,0.857724979946852,0.49138293958587587,0.23315012564211257,0.899007844782007,0.9719251875791792,0.2482872027189793,0.829854756960771,0.1776806919618681,0.09254777971638184,0.08058255746258258,0.7579776373520603,0.41802359171918824,0.31127976382918,0.20929163365281667,0.5812787993308162,0.5904990337507277,0.7630825662413995,0.04115965954325429,0.490263711281824,0.32912796795776633,0.062365618683641544,0.24248602258994378,0.498670483760001,0.23896770157246416,0.8083498255552358,0.8299457822193479,0.2044367982716262,0.26111923398980674,0.9608497846313186,0.626137655256992,0.1774353534742923,0.056960960641484815,0.19052367655738123,0.6907100651011342,0.3855221534773998,0.42348292870997883,0.13054818225024367,0.17696384591775427,0.8425261201707768,0.837257687061193,0.0015100017717131209,0.5804686734363267,0.7426915931635539,0.5163917775540342,0.5092659554722446,0.7126103155689777,0.07895947490586275,0.6972933805327616,0.20551442916819573,0.9552052317248326,0.9683903281400361,0.2375318250445373,0.4556483462864558,0.5931797180274264,0.7156052037259166,0.056633789435631465,0.2811828420031165,0.3895937856104543,0.6445655629265611,0.3680417115718567,0.6263248427902868,0.287432195497352,0.8970432183427802,0.5870523800035089,0.6173188549955486,0.42185016166936085,0.5051037534256942,0.44197757146098027,0.0014352987242518545,0.5338910336709681,0.004269122031374417,0.3715208839532279,0.03732071515561963,0.4103672518980135,0.9153542522880882,0.0555275051027051,0.48669147977021954,0.7438932540404314,0.561457200091388,0.4088251004908505,0.6532849923349549,0.35006614305257633,0.623885105966933,0.6481665036809492,0.7182399810641444,0.7231766837108419,0.4385600712047275,0.35126603787651245,0.6402658445384565,0.3804955915025643,0.46403951963210444,0.9537871885155589,0.5281487837053245,0.8915979265739045,0.28788587600812143,0.9766231255324735,0.1926456875130489,0.92962160127708,0.22698860423914535,0.7664540154825902,0.4678646417841097,0.603190122107023,0.6493811562706481,0.03879735806091855,0.22277191040361577,0.04618324757541781,0.48317775779674443,0.22186527850513815,0.05211202718819119,0.46033402355383257,0.21889875407666426,0.15046392871261294,0.2985813364569073,0.5138972241561766,0.23981247291258223,0.09202265341326354,0.9453724172208756,0.8039615606996405,0.03365209008957182,0.04284153239237909,0.10090671519073402,0.6380468695430855,0.8550961101018232,0.04796655298161867,0.6735013640688394,0.8241643828104033,0.3268568796078303,0.7181890545306302,0.45628430196206005,0.5479178611957161,0.7506742363003298,0.3651716072979041,0.1681543494079486,0.6334948061898991,0.06001777364479666,0.320659819018718,0.4788540408270583,0.32355939219387664,0.2938776387225899,0.43339788496928633,0.7869966281954307,0.22814336859111006,0.39382188038239574,0.9632262919789547,0.22435806705414274,0.1931796971926396,0.25864074502132817,0.5784848803579584,0.8619402916195769,0.4438907737586768,0.923390404067075,0.27816289686142726,0.9054315150258638,0.9005380886561704,0.8981313185634193,0.5692869142982977,0.16706612341693117,0.6520685873102582,0.1465563581917364,0.5995596005751455,0.7793265559913175,0.31777617371715283,0.6542455234468469,0.014925178004419615,0.08312309922288841,0.531083153370064,0.781298440230149,0.7328815886308556,0.9040861773837467,0.7830105031817242,0.18008480544340744,0.32423234612561425,0.8632406480717149,0.5332484788456593,0.09184191969604916,0.045064503407207024,0.5705314666875235,0.6944137609640405,0.42940579037869775,0.7425305101554172,0.9416062521937579,0.24112644253292714,0.6002930070326377,0.9974886153694649,0.2549243238756185,0.697109154216989,0.7484811388956063,0.6968644024393676,0.4381832945195685,0.8197879686657126,0.3020715574372007,0.11717036910864742,0.7632647532366039,0.9146747429419132,0.8344146010622026,0.7585667130572225,0.6849434502334473,0.3405850669792767,0.08584658588943461,0.6762753944337857,0.3421901896276769,0.8140759000249862,0.923237058971789,0.4306500887123913,0.7169725968667592,0.17887616358108116,0.6069903891054307,0.69462190757617,0.9184571764688578,0.03801303210475071,0.08625104697074581,0.6094205955037898,0.9221192543935209,0.04517306219585848,0.00015227564339037603,0.9892726907824296,0.03257666125139025,0.6097403955598745,0.47458595001087056,0.8712508058192832,0.48589849729421775]}},\"id\":\"0fe3cacd-995b-447d-8eb8-390f92c6b777\",\"type\":\"ColumnDataSource\"},{\"attributes\":{\"fill_alpha\":{\"value\":0.1},\"fill_color\":{\"value\":\"#1f77b4\"},\"line_alpha\":{\"value\":0.1},\"line_color\":{\"value\":\"#1f77b4\"},\"size\":{\"units\":\"screen\",\"value\":8},\"x\":{\"field\":\"x\"},\"y\":{\"field\":\"y\"}},\"id\":\"4a7787dc-4b46-4921-a282-be704eddfcfb\",\"type\":\"Circle\"},{\"attributes\":{\"line_alpha\":0.6,\"line_color\":\"orange\",\"line_width\":5,\"x\":{\"field\":\"xm\"},\"y\":{\"field\":\"ym\"}},\"id\":\"989a188b-475a-4668-ac7f-b0ba3e0db5d7\",\"type\":\"Line\"},{\"attributes\":{\"formatter\":{\"id\":\"2214e7af-126f-42ae-84b4-96bd2c250315\",\"type\":\"BasicTickFormatter\"},\"plot\":{\"id\":\"9dffa713-bab0-4b29-896d-453a0bcc97a6\",\"subtype\":\"Figure\",\"type\":\"Plot\"},\"ticker\":{\"id\":\"738a8897-23bc-4ea7-80ee-e64a8955ddba\",\"type\":\"BasicTicker\"}},\"id\":\"502c857d-ed0f-44df-9de2-2ae1fa2e50b0\",\"type\":\"LinearAxis\"},{\"attributes\":{\"args\":{\"s2\":{\"id\":\"76c98119-04fd-4714-84f3-e4e599dfd807\",\"type\":\"ColumnDataSource\"}},\"code\":\"\\n    var inds = cb_obj.get('selected')['1d'].indices;\\n    var d = cb_obj.get('data');\\n    var ym = 0\\n    \\n    if (inds.length == 0) { return; }\\n    \\n    for (i = 0; i < d['color'].length; i++) {\\n        d['color'][i] = \\\"navy\\\"\\n    }\\n    for (i = 0; i < inds.length; i++) {\\n        d['color'][inds[i]] = \\\"firebrick\\\"\\n        ym += d['y'][inds[i]]\\n    }\\n    \\n    ym /= inds.length\\n    s2.get('data')['ym'] = [ym, ym]\\n    \\n    cb_obj.trigger('change');\\n    s2.trigger('change');\\n\"},\"id\":\"c4a34262-f0f9-4a7b-8d78-15a4b6d4a3fd\",\"type\":\"CustomJS\"},{\"attributes\":{\"below\":[{\"id\":\"254ca4bb-91cb-428a-8d60-347e35541a05\",\"type\":\"LinearAxis\"}],\"left\":[{\"id\":\"502c857d-ed0f-44df-9de2-2ae1fa2e50b0\",\"type\":\"LinearAxis\"}],\"plot_height\":400,\"plot_width\":400,\"renderers\":[{\"id\":\"254ca4bb-91cb-428a-8d60-347e35541a05\",\"type\":\"LinearAxis\"},{\"id\":\"47e03b53-443c-42ab-9307-408f5a74ba7a\",\"type\":\"Grid\"},{\"id\":\"502c857d-ed0f-44df-9de2-2ae1fa2e50b0\",\"type\":\"LinearAxis\"},{\"id\":\"3bade3c5-4ab5-41b1-b2d0-4c68ab215dd8\",\"type\":\"Grid\"},{\"id\":\"45a42555-231b-4609-84c9-99878c97be96\",\"type\":\"PolyAnnotation\"},{\"id\":\"d84455e3-827c-431d-b7db-a229b974dfc1\",\"type\":\"GlyphRenderer\"},{\"id\":\"e9dca192-65a6-4508-a9bc-af4c2d46c9dc\",\"type\":\"GlyphRenderer\"}],\"title\":{\"id\":\"72b2f57e-8419-4ae0-80bd-0dcff4e56292\",\"type\":\"Title\"},\"toolbar\":{\"id\":\"8571ab47-66ac-47e4-870e-9a6aec93b660\",\"type\":\"Toolbar\"},\"x_range\":{\"id\":\"d3ceff80-66fb-4bef-a446-afb9efbaff3b\",\"type\":\"DataRange1d\"},\"x_scale\":{\"id\":\"703e2831-84a1-4bbd-9191-59bcdd58f80d\",\"type\":\"LinearScale\"},\"y_range\":{\"id\":\"7e74804e-6f04-4550-ad02-fd173d18c4b4\",\"type\":\"DataRange1d\"},\"y_scale\":{\"id\":\"94f31b25-f790-419b-a435-0cf7ee251137\",\"type\":\"LinearScale\"}},\"id\":\"9dffa713-bab0-4b29-896d-453a0bcc97a6\",\"subtype\":\"Figure\",\"type\":\"Plot\"},{\"attributes\":{\"source\":{\"id\":\"0fe3cacd-995b-447d-8eb8-390f92c6b777\",\"type\":\"ColumnDataSource\"}},\"id\":\"6872308b-6f07-4ed3-aaf2-511def946a26\",\"type\":\"CDSView\"},{\"attributes\":{\"line_alpha\":0.1,\"line_color\":\"#1f77b4\",\"line_width\":5,\"x\":{\"field\":\"xm\"},\"y\":{\"field\":\"ym\"}},\"id\":\"bcf46612-db9f-47c3-867d-f29076ea4a97\",\"type\":\"Line\"},{\"attributes\":{\"fill_alpha\":{\"value\":0.4},\"fill_color\":{\"field\":\"color\"},\"line_alpha\":{\"value\":0.4},\"line_color\":{\"field\":\"color\"},\"size\":{\"units\":\"screen\",\"value\":8},\"x\":{\"field\":\"x\"},\"y\":{\"field\":\"y\"}},\"id\":\"0ede4666-772f-4f40-a3b1-b7e011a9cd1b\",\"type\":\"Circle\"}],\"root_ids\":[\"9dffa713-bab0-4b29-896d-453a0bcc97a6\"]},\"title\":\"Bokeh Application\",\"version\":\"0.12.11\"}};\n",
       "    var render_items = [{\"docid\":\"dc60f453-0417-44de-b584-ed59c8f62d78\",\"elementid\":\"3353c44a-cdbf-460f-a4d9-14511b09e270\",\"modelid\":\"9dffa713-bab0-4b29-896d-453a0bcc97a6\"}];\n",
       "    root.Bokeh.embed.embed_items(docs_json, render_items);\n",
       "  }\n",
       "  if (root.Bokeh !== undefined) {\n",
       "    embed_document(root);\n",
       "  } else {\n",
       "    var attempts = 0;\n",
       "    var timer = setInterval(function(root) {\n",
       "      if (root.Bokeh !== undefined) {\n",
       "        embed_document(root);\n",
       "        clearInterval(timer);\n",
       "      }\n",
       "      attempts++;\n",
       "      if (attempts > 100) {\n",
       "        console.log(\"Bokeh: ERROR: Unable to embed document because BokehJS library is missing\")\n",
       "        clearInterval(timer);\n",
       "      }\n",
       "    }, 10, root)\n",
       "  }\n",
       "})(window);"
      ],
      "application/vnd.bokehjs_exec.v0+json": ""
     },
     "metadata": {
      "application/vnd.bokehjs_exec.v0+json": {
       "id": "9dffa713-bab0-4b29-896d-453a0bcc97a6"
      }
     },
     "output_type": "display_data"
    }
   ],
   "source": [
    "from random import random\n",
    "\n",
    "x = [random() for x in range(500)]\n",
    "y = [random() for y in range(500)]\n",
    "color = [\"navy\"] * len(x)\n",
    "\n",
    "s = ColumnDataSource(data=dict(x=x, y=y, color=color))\n",
    "p = figure(plot_width=400, plot_height=400, tools=\"lasso_select\", title=\"Select Here\")\n",
    "p.circle('x', 'y', color='color', size=8, source=s, alpha=0.4)\n",
    "\n",
    "s2 = ColumnDataSource(data=dict(xm=[0,1],ym=[0.5, 0.5]))\n",
    "p.line(x='xm', y='ym', color=\"orange\", line_width=5, alpha=0.6, source=s2)\n",
    "\n",
    "s.callback = CustomJS(args=dict(s2=s2), code=\"\"\"\n",
    "    var inds = cb_obj.get('selected')['1d'].indices;\n",
    "    var d = cb_obj.get('data');\n",
    "    var ym = 0\n",
    "    \n",
    "    if (inds.length == 0) { return; }\n",
    "    \n",
    "    for (i = 0; i < d['color'].length; i++) {\n",
    "        d['color'][i] = \"navy\"\n",
    "    }\n",
    "    for (i = 0; i < inds.length; i++) {\n",
    "        d['color'][inds[i]] = \"firebrick\"\n",
    "        ym += d['y'][inds[i]]\n",
    "    }\n",
    "    \n",
    "    ym /= inds.length\n",
    "    s2.get('data')['ym'] = [ym, ym]\n",
    "    \n",
    "    cb_obj.trigger('change');\n",
    "    s2.trigger('change');\n",
    "\"\"\")\n",
    "\n",
    "show(p)"
   ]
  },
  {
   "cell_type": "markdown",
   "metadata": {
    "collapsed": true
   },
   "source": [
    "# More\n",
    "For more interactions, see the User Guide - http://bokeh.pydata.org/en/latest/docs/user_guide/interaction.html"
   ]
  },
  {
   "cell_type": "code",
   "execution_count": null,
   "metadata": {
    "collapsed": true
   },
   "outputs": [],
   "source": []
  }
 ],
 "metadata": {
  "anaconda-cloud": {},
  "kernelspec": {
   "display_name": "Python 3",
   "language": "python",
   "name": "python3"
  },
  "language_info": {
   "codemirror_mode": {
    "name": "ipython",
    "version": 3
   },
   "file_extension": ".py",
   "mimetype": "text/x-python",
   "name": "python",
   "nbconvert_exporter": "python",
   "pygments_lexer": "ipython3",
   "version": "3.6.3"
  },
  "widgets": {
   "state": {
    "335ae2c8ff80469e9adac668c2924989": {
     "views": [
      {
       "cell_index": 19
      }
     ]
    }
   },
   "version": "1.2.0"
  }
 },
 "nbformat": 4,
 "nbformat_minor": 1
}
