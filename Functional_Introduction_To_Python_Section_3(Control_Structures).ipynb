{
 "cells": [
  {
   "cell_type": "markdown",
   "metadata": {
    "slideshow": {
     "slide_type": "slide"
    }
   },
   "source": [
    "# A Functional Introduction To Python\n",
    "## Section 1.  Introductory Concepts \n",
    "## Section 2.  Functions\n",
    "## <span style=\"color:blue\">Section 3.  Control Structures</span>"
   ]
  },
  {
   "cell_type": "markdown",
   "metadata": {
    "slideshow": {
     "slide_type": "slide"
    }
   },
   "source": [
    "## Section 3:  Control Structures\n",
    "*  For loops\n",
    "*  While loops\n",
    "*  If/else statements\n",
    "*  Try/Except\n",
    "*  Generator expressions\n",
    "*  List Comprehensions\n",
    "*  Pattern Matching\n",
    "\n",
    "All programs eventually need a way to control the flow of execution.  This section describes techniques."
   ]
  },
  {
   "cell_type": "markdown",
   "metadata": {
    "slideshow": {
     "slide_type": "slide"
    }
   },
   "source": [
    "### For Loops\n",
    "The for loop is one of the most fundamental control structures in Python.\n",
    "One common pattern is to use the range function to generate a range of values, then to iterate on them.\n"
   ]
  },
  {
   "cell_type": "code",
   "execution_count": 1,
   "metadata": {
    "slideshow": {
     "slide_type": "subslide"
    }
   },
   "outputs": [
    {
     "name": "stdout",
     "output_type": "stream",
     "text": [
      "[0, 1, 2]\n"
     ]
    }
   ],
   "source": [
    "res = range(3)\n",
    "print(list(res))"
   ]
  },
  {
   "cell_type": "code",
   "execution_count": 2,
   "metadata": {
    "slideshow": {
     "slide_type": "subslide"
    }
   },
   "outputs": [
    {
     "name": "stdout",
     "output_type": "stream",
     "text": [
      "0\n",
      "1\n",
      "2\n"
     ]
    }
   ],
   "source": [
    "for i in range(3):\n",
    "    print(i)"
   ]
  },
  {
   "cell_type": "markdown",
   "metadata": {
    "slideshow": {
     "slide_type": "slide"
    }
   },
   "source": [
    "##### For loop over list\n",
    "Another common pattern is to iterate or a list"
   ]
  },
  {
   "cell_type": "code",
   "execution_count": 3,
   "metadata": {
    "slideshow": {
     "slide_type": "subslide"
    }
   },
   "outputs": [
    {
     "name": "stdout",
     "output_type": "stream",
     "text": [
      "taekwondo has influenced modern mixed martial arts\n",
      "Judo has influenced modern mixed martial arts\n",
      "karate has influenced modern mixed martial arts\n"
     ]
    }
   ],
   "source": [
    "martial_arts = [\"taekwondo\", \"Judo\", \"karate\"]\n",
    "for martial_art in martial_arts:\n",
    "    print(\"{} has influenced modern mixed martial arts\".format(martial_art))"
   ]
  },
  {
   "cell_type": "markdown",
   "metadata": {
    "slideshow": {
     "slide_type": "slide"
    }
   },
   "source": [
    "### While Loops\n",
    "A While Loop is often used as a way of looping until a condition is met.\n",
    "A very common use of a while loop is to create an infinite loop.\n",
    "In the example below a while loop is used to filter a function that returns 1 of 2 types of attacks.\n"
   ]
  },
  {
   "cell_type": "code",
   "execution_count": 7,
   "metadata": {
    "slideshow": {
     "slide_type": "subslide"
    }
   },
   "outputs": [
    {
     "name": "stdout",
     "output_type": "stream",
     "text": [
      "There are a total of 3 attacks coming!\n",
      "crossing legs to prevent attack #1\n",
      "crossing legs to prevent attack #2\n",
      "This is not a lower body attack, I will cross my arms for #3\n"
     ]
    }
   ],
   "source": [
    "def attacks():\n",
    "    list_of_attacks = [\"lower_body\", \"lower_body\",\"upper_body\"]\n",
    "    print(\"There are a total of {} attacks coming!\".format(len(list_of_attacks)))\n",
    "    for attack in list_of_attacks:\n",
    "        yield attack\n",
    "attack = attacks()\n",
    "count = 0\n",
    "while next(attack) == \"lower_body\":\n",
    "    count +=1\n",
    "    print(\"crossing legs to prevent attack #{}\".format(count))\n",
    "else:\n",
    "    count +=1\n",
    "    print(\"This is not a lower body attack, I will cross my arms for #{}\".format(count))"
   ]
  },
  {
   "cell_type": "markdown",
   "metadata": {
    "slideshow": {
     "slide_type": "slide"
    }
   },
   "source": [
    "### If/Else\n",
    "If/Else statements are a common way to branch between decisions.\n",
    "In the example below if/elif are used to match a branch.  If there are no matches, the last \"else\" statement is run.\n"
   ]
  },
  {
   "cell_type": "code",
   "execution_count": 9,
   "metadata": {
    "slideshow": {
     "slide_type": "subslide"
    }
   },
   "outputs": [],
   "source": [
    "def recommended_attack(position):\n",
    "    \"\"\"Recommends an attack based on the position\"\"\"\n",
    "    if position == \"full_guard\":\n",
    "        print(\"Try an armbar attack\")\n",
    "    elif position == \"half_guard\":\n",
    "        print(\"Try a kimura attack\")\n",
    "    elif position == \"full_mount\":\n",
    "        print(\"Try an arm triangle\")\n",
    "    else:\n",
    "        print(\"You're on your own, there is no suggestion for an attack\")\n",
    "    \n"
   ]
  },
  {
   "cell_type": "code",
   "execution_count": 10,
   "metadata": {
    "slideshow": {
     "slide_type": "subslide"
    }
   },
   "outputs": [
    {
     "name": "stdout",
     "output_type": "stream",
     "text": [
      "Try an armbar attack\n"
     ]
    }
   ],
   "source": [
    "recommended_attack(\"full_guard\")"
   ]
  },
  {
   "cell_type": "code",
   "execution_count": 11,
   "metadata": {
    "slideshow": {
     "slide_type": "subslide"
    }
   },
   "outputs": [
    {
     "name": "stdout",
     "output_type": "stream",
     "text": [
      "You're on your own, there is no suggestion for an attack\n"
     ]
    }
   ],
   "source": [
    "recommended_attack(\"z_guard\")"
   ]
  },
  {
   "cell_type": "markdown",
   "metadata": {
    "slideshow": {
     "slide_type": "slide"
    }
   },
   "source": [
    "### Generator Expression\n",
    "Generator Expressions build further on the concept of yield by allowing for the lazy evaluation of a sequence. The benefit of generator expressions is that nothing is evaluated or brought into memory until it is actually evaluated. \n",
    "\n",
    "This is why the example below can be operating on an infi-nite sequence of random attacks that are generated.\n",
    "In the generator pipeline the lower-case attack, such as \"arm_triangle\" is converted to \"ARM_TRIANGLE\", next the underscore is remove \"ARM TRIANGLE\"."
   ]
  },
  {
   "cell_type": "code",
   "execution_count": 16,
   "metadata": {
    "slideshow": {
     "slide_type": "slide"
    }
   },
   "outputs": [],
   "source": [
    "def lazy_return_random_attacks():\n",
    "    \"\"\"Yield attacks each time\"\"\"\n",
    "    import random\n",
    "    attacks = {\"kimura\": \"upper_body\",\n",
    "           \"straight_ankle_lock\":\"lower_body\", \n",
    "           \"arm_triangle\":\"upper_body\",\n",
    "            \"keylock\": \"upper_body\",\n",
    "            \"knee_bar\": \"lower_body\"}\n",
    "    while True:\n",
    "        random_attack = random.choice(list(attacks.keys()))\n",
    "        yield random_attack\n",
    "        \n",
    "#Make all attacks appear as Upper Case\n",
    "upper_case_attacks = (attack.upper() for attack in lazy_return_random_attacks())"
   ]
  },
  {
   "cell_type": "code",
   "execution_count": 18,
   "metadata": {
    "slideshow": {
     "slide_type": "subslide"
    }
   },
   "outputs": [
    {
     "data": {
      "text/plain": [
       "'KNEE_BAR'"
      ]
     },
     "execution_count": 18,
     "metadata": {},
     "output_type": "execute_result"
    }
   ],
   "source": [
    "next(upper_case_attacks)"
   ]
  },
  {
   "cell_type": "code",
   "execution_count": 19,
   "metadata": {
    "slideshow": {
     "slide_type": "subslide"
    }
   },
   "outputs": [],
   "source": [
    "## Generator Pipeline:  One expression chains into the next\n",
    "#Make all attacks appear as Upper Case\n",
    "upper_case_attacks = (attack.upper() for attack in lazy_return_random_attacks())\n",
    "#Remove the underscore\n",
    "remove_underscore = (attack.split(\"_\") for attack in upper_case_attacks)\n",
    "#Create a new phrase \n",
    "new_attack_phrase = (\" \".join(phrase) for phrase in remove_underscore)"
   ]
  },
  {
   "cell_type": "code",
   "execution_count": 20,
   "metadata": {
    "slideshow": {
     "slide_type": "subslide"
    }
   },
   "outputs": [
    {
     "data": {
      "text/plain": [
       "'KEYLOCK'"
      ]
     },
     "execution_count": 20,
     "metadata": {},
     "output_type": "execute_result"
    }
   ],
   "source": [
    "next(new_attack_phrase)"
   ]
  },
  {
   "cell_type": "code",
   "execution_count": 21,
   "metadata": {
    "slideshow": {
     "slide_type": "subslide"
    }
   },
   "outputs": [
    {
     "name": "stdout",
     "output_type": "stream",
     "text": [
      "KNEE BAR\n",
      "ARM TRIANGLE\n",
      "STRAIGHT ANKLE LOCK\n",
      "ARM TRIANGLE\n",
      "STRAIGHT ANKLE LOCK\n",
      "KIMURA\n",
      "KEYLOCK\n",
      "ARM TRIANGLE\n",
      "ARM TRIANGLE\n",
      "KNEE BAR\n"
     ]
    }
   ],
   "source": [
    "for number in range(10):\n",
    "    print(next(new_attack_phrase))"
   ]
  },
  {
   "cell_type": "markdown",
   "metadata": {
    "slideshow": {
     "slide_type": "slide"
    }
   },
   "source": [
    "### List Comprehension\n",
    "A list comprehension is very similar to a generator expression, but it evaluated in memory.  Additionally, it is optimized C code that be a substantial improvement over a traditional for loop."
   ]
  },
  {
   "cell_type": "code",
   "execution_count": 22,
   "metadata": {
    "slideshow": {
     "slide_type": "subslide"
    }
   },
   "outputs": [],
   "source": [
    "martial_arts = [\"Sambo\", \"Muay Thai\", \"BJJ\"]\n",
    "new_phrases = [\"\".join(\"Mixed Martial Arts is influenced by {}\".format(martial_art)) for martial_art in martial_arts]"
   ]
  },
  {
   "cell_type": "code",
   "execution_count": 23,
   "metadata": {
    "slideshow": {
     "slide_type": "subslide"
    }
   },
   "outputs": [
    {
     "name": "stdout",
     "output_type": "stream",
     "text": [
      "['Mixed Martial Arts is influenced by Sambo', 'Mixed Martial Arts is influenced by Muay Thai', 'Mixed Martial Arts is influenced by BJJ']\n"
     ]
    }
   ],
   "source": [
    "print(new_phrases)"
   ]
  },
  {
   "cell_type": "markdown",
   "metadata": {
    "slideshow": {
     "slide_type": "slide"
    }
   },
   "source": [
    "### Try/Except\n",
    "There is an expression in sports, \"Always be prepared to do your best on your worst day\".\n",
    "Try/Except statements are similar.  It is always a good idea to think about what happens when something goes wrong in code that is written.  Try/Except blocks allow for this.\n"
   ]
  },
  {
   "cell_type": "code",
   "execution_count": 24,
   "metadata": {
    "slideshow": {
     "slide_type": "subslide"
    }
   },
   "outputs": [
    {
     "name": "stdout",
     "output_type": "stream",
     "text": [
      "I would like to compete in the EBI tournament.\n",
      "I would like to compete in the IBJJF tournament.\n",
      "I would like to compete in the NAGA tournament.\n",
      "There are no more tournaments\n"
     ]
    }
   ],
   "source": [
    "tournaments = [\"NAGA\", \"IBJJF\", \"EBI\"]\n",
    "while True:\n",
    "    try:\n",
    "        tournament = tournaments.pop()\n",
    "        print(\"I would like to compete in the {} tournament.\".format(tournament))\n",
    "    except IndexError:\n",
    "        print(\"There are no more tournaments\")\n",
    "        break"
   ]
  },
  {
   "cell_type": "code",
   "execution_count": null,
   "metadata": {},
   "outputs": [],
   "source": []
  }
 ],
 "metadata": {
  "celltoolbar": "Slideshow",
  "kernelspec": {
   "display_name": "Python 3",
   "language": "python",
   "name": "python3"
  },
  "language_info": {
   "codemirror_mode": {
    "name": "ipython",
    "version": 3
   },
   "file_extension": ".py",
   "mimetype": "text/x-python",
   "name": "python",
   "nbconvert_exporter": "python",
   "pygments_lexer": "ipython3",
   "version": "3.5.2"
  }
 },
 "nbformat": 4,
 "nbformat_minor": 2
}
